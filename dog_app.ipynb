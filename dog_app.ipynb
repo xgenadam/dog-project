{
 "cells": [
  {
   "cell_type": "markdown",
   "metadata": {},
   "source": [
    "# Artificial Intelligence Nanodegree\n",
    "\n",
    "## Convolutional Neural Networks\n",
    "\n",
    "## Project: Write an Algorithm for a Dog Identification App \n",
    "\n",
    "---\n",
    "\n",
    "In this notebook, some template code has already been provided for you, and you will need to implement additional functionality to successfully complete this project. You will not need to modify the included code beyond what is requested. Sections that begin with **'(IMPLEMENTATION)'** in the header indicate that the following block of code will require additional functionality which you must provide. Instructions will be provided for each section, and the specifics of the implementation are marked in the code block with a 'TODO' statement. Please be sure to read the instructions carefully! \n",
    "\n",
    "> **Note**: Once you have completed all of the code implementations, you need to finalize your work by exporting the iPython Notebook as an HTML document. Before exporting the notebook to html, all of the code cells need to have been run so that reviewers can see the final implementation and output. You can then export the notebook by using the menu above and navigating to  \\n\",\n",
    "    \"**File -> Download as -> HTML (.html)**. Include the finished document along with this notebook as your submission.\n",
    "\n",
    "In addition to implementing code, there will be questions that you must answer which relate to the project and your implementation. Each section where you will answer a question is preceded by a **'Question X'** header. Carefully read each question and provide thorough answers in the following text boxes that begin with **'Answer:'**. Your project submission will be evaluated based on your answers to each of the questions and the implementation you provide.\n",
    "\n",
    ">**Note:** Code and Markdown cells can be executed using the **Shift + Enter** keyboard shortcut.  Markdown cells can be edited by double-clicking the cell to enter edit mode.\n",
    "\n",
    "The rubric contains _optional_ \"Stand Out Suggestions\" for enhancing the project beyond the minimum requirements. If you decide to pursue the \"Stand Out Suggestions\", you should include the code in this IPython notebook.\n",
    "\n",
    "\n",
    "\n",
    "---\n",
    "### Why We're Here \n",
    "\n",
    "In this notebook, you will make the first steps towards developing an algorithm that could be used as part of a mobile or web app.  At the end of this project, your code will accept any user-supplied image as input.  If a dog is detected in the image, it will provide an estimate of the dog's breed.  If a human is detected, it will provide an estimate of the dog breed that is most resembling.  The image below displays potential sample output of your finished project (... but we expect that each student's algorithm will behave differently!). \n",
    "\n",
    "![Sample Dog Output](images/sample_dog_output.png)\n",
    "\n",
    "In this real-world setting, you will need to piece together a series of models to perform different tasks; for instance, the algorithm that detects humans in an image will be different from the CNN that infers dog breed.  There are many points of possible failure, and no perfect algorithm exists.  Your imperfect solution will nonetheless create a fun user experience!\n",
    "\n",
    "### The Road Ahead\n",
    "\n",
    "We break the notebook into separate steps.  Feel free to use the links below to navigate the notebook.\n",
    "\n",
    "* [Step 0](#step0): Import Datasets\n",
    "* [Step 1](#step1): Detect Humans\n",
    "* [Step 2](#step2): Detect Dogs\n",
    "* [Step 3](#step3): Create a CNN to Classify Dog Breeds (from Scratch)\n",
    "* [Step 4](#step4): Use a CNN to Classify Dog Breeds (using Transfer Learning)\n",
    "* [Step 5](#step5): Create a CNN to Classify Dog Breeds (using Transfer Learning)\n",
    "* [Step 6](#step6): Write your Algorithm\n",
    "* [Step 7](#step7): Test Your Algorithm\n",
    "\n",
    "---\n",
    "<a id='step0'></a>\n",
    "## Step 0: Import Datasets\n",
    "\n",
    "### Import Dog Dataset\n",
    "\n",
    "In the code cell below, we import a dataset of dog images.  We populate a few variables through the use of the `load_files` function from the scikit-learn library:\n",
    "- `train_files`, `valid_files`, `test_files` - numpy arrays containing file paths to images\n",
    "- `train_targets`, `valid_targets`, `test_targets` - numpy arrays containing onehot-encoded classification labels \n",
    "- `dog_names` - list of string-valued dog breed names for translating labels"
   ]
  },
  {
   "cell_type": "code",
   "execution_count": 2,
   "metadata": {},
   "outputs": [
    {
     "name": "stderr",
     "output_type": "stream",
     "text": [
      "Using TensorFlow backend.\n"
     ]
    },
    {
     "name": "stdout",
     "output_type": "stream",
     "text": [
      "There are 133 total dog categories.\n",
      "There are 8351 total dog images.\n",
      "\n",
      "There are 6680 training dog images.\n",
      "There are 835 validation dog images.\n",
      "There are 836 test dog images.\n"
     ]
    }
   ],
   "source": [
    "from sklearn.datasets import load_files       \n",
    "from keras.utils import np_utils\n",
    "import numpy as np\n",
    "from glob import glob\n",
    "\n",
    "# define function to load train, test, and validation datasets\n",
    "def load_dataset(path):\n",
    "    data = load_files(path)\n",
    "    dog_files = np.array(data['filenames'])\n",
    "    dog_targets = np_utils.to_categorical(np.array(data['target']), 133)\n",
    "    return dog_files, dog_targets\n",
    "\n",
    "train_files, train_targets = load_dataset('dogImages/train')\n",
    "valid_files, valid_targets = load_dataset('dogImages/valid')\n",
    "test_files, test_targets = load_dataset('dogImages/test')\n",
    "\n",
    "# load list of dog names\n",
    "dog_names = [item[20:-1] for item in sorted(glob(\"dogImages/train/*/\"))]\n",
    "\n",
    "# print statistics about the dataset\n",
    "print('There are %d total dog categories.' % len(dog_names))\n",
    "print('There are %s total dog images.\\n' % len(np.hstack([train_files, valid_files, test_files])))\n",
    "print('There are %d training dog images.' % len(train_files))\n",
    "print('There are %d validation dog images.' % len(valid_files))\n",
    "print('There are %d test dog images.'% len(test_files))"
   ]
  },
  {
   "cell_type": "markdown",
   "metadata": {},
   "source": [
    "### Import Human Dataset\n",
    "\n",
    "In the code cell below, we import a dataset of human images, where the file paths are stored in the numpy array `human_files`."
   ]
  },
  {
   "cell_type": "code",
   "execution_count": 3,
   "metadata": {},
   "outputs": [
    {
     "name": "stdout",
     "output_type": "stream",
     "text": [
      "There are 13233 total human images.\n"
     ]
    }
   ],
   "source": [
    "import random\n",
    "random.seed(8675309)\n",
    "\n",
    "# load filenames in shuffled human dataset\n",
    "human_files = np.array(glob(\"lfw/*/*\"))\n",
    "random.shuffle(human_files)\n",
    "\n",
    "# print statistics about the dataset\n",
    "print('There are %d total human images.' % len(human_files))"
   ]
  },
  {
   "cell_type": "markdown",
   "metadata": {},
   "source": [
    "---\n",
    "<a id='step1'></a>\n",
    "## Step 1: Detect Humans\n",
    "\n",
    "We use OpenCV's implementation of [Haar feature-based cascade classifiers](http://docs.opencv.org/trunk/d7/d8b/tutorial_py_face_detection.html) to detect human faces in images.  OpenCV provides many pre-trained face detectors, stored as XML files on [github](https://github.com/opencv/opencv/tree/master/data/haarcascades).  We have downloaded one of these detectors and stored it in the `haarcascades` directory.\n",
    "\n",
    "In the next code cell, we demonstrate how to use this detector to find human faces in a sample image."
   ]
  },
  {
   "cell_type": "code",
   "execution_count": 4,
   "metadata": {},
   "outputs": [
    {
     "name": "stdout",
     "output_type": "stream",
     "text": [
      "Number of faces detected: 1\n"
     ]
    },
    {
     "data": {
      "image/png": "[encoded data removed]",
      "text/plain": [
       "<matplotlib.figure.Figure at 0x7fe1b5cb4828>"
      ]
     },
     "metadata": {},
     "output_type": "display_data"
    }
   ],
   "source": [
    "import cv2                \n",
    "import matplotlib.pyplot as plt                        \n",
    "%matplotlib inline                               \n",
    "\n",
    "# extract pre-trained face detector\n",
    "face_cascade = cv2.CascadeClassifier('haarcascades/haarcascade_frontalface_alt.xml')\n",
    "\n",
    "# load color (BGR) image\n",
    "img = cv2.imread(human_files[3])\n",
    "# convert BGR image to grayscale\n",
    "gray = cv2.cvtColor(img, cv2.COLOR_BGR2GRAY)\n",
    "\n",
    "# find faces in image\n",
    "faces = face_cascade.detectMultiScale(gray)\n",
    "\n",
    "# print number of faces detected in the image\n",
    "print('Number of faces detected:', len(faces))\n",
    "\n",
    "# get bounding box for each detected face\n",
    "for (x,y,w,h) in faces:\n",
    "    # add bounding box to color image\n",
    "    cv2.rectangle(img,(x,y),(x+w,y+h),(255,0,0),2)\n",
    "    \n",
    "# convert BGR image to RGB for plotting\n",
    "cv_rgb = cv2.cvtColor(img, cv2.COLOR_BGR2RGB)\n",
    "\n",
    "# display the image, along with bounding box\n",
    "plt.imshow(cv_rgb)\n",
    "plt.show()"
   ]
  },
  {
   "cell_type": "markdown",
   "metadata": {},
   "source": [
    "Before using any of the face detectors, it is standard procedure to convert the images to grayscale.  The `detectMultiScale` function executes the classifier stored in `face_cascade` and takes the grayscale image as a parameter.  \n",
    "\n",
    "In the above code, `faces` is a numpy array of detected faces, where each row corresponds to a detected face.  Each detected face is a 1D array with four entries that specifies the bounding box of the detected face.  The first two entries in the array (extracted in the above code as `x` and `y`) specify the horizontal and vertical positions of the top left corner of the bounding box.  The last two entries in the array (extracted here as `w` and `h`) specify the width and height of the box.\n",
    "\n",
    "### Write a Human Face Detector\n",
    "\n",
    "We can use this procedure to write a function that returns `True` if a human face is detected in an image and `False` otherwise.  This function, aptly named `face_detector`, takes a string-valued file path to an image as input and appears in the code block below."
   ]
  },
  {
   "cell_type": "code",
   "execution_count": 5,
   "metadata": {
    "collapsed": true
   },
   "outputs": [],
   "source": [
    "# returns \"True\" if face is detected in image stored at img_path\n",
    "def face_detector(img_path):\n",
    "    img = cv2.imread(img_path)\n",
    "    gray = cv2.cvtColor(img, cv2.COLOR_BGR2GRAY)\n",
    "    faces = face_cascade.detectMultiScale(gray)\n",
    "    return len(faces) > 0"
   ]
  },
  {
   "cell_type": "markdown",
   "metadata": {},
   "source": [
    "### (IMPLEMENTATION) Assess the Human Face Detector\n",
    "\n",
    "__Question 1:__ Use the code cell below to test the performance of the `face_detector` function.  \n",
    "- What percentage of the first 100 images in `human_files` have a detected human face?  \n",
    "- What percentage of the first 100 images in `dog_files` have a detected human face? \n",
    "\n",
    "Ideally, we would like 100% of human images with a detected face and 0% of dog images with a detected face.  You will see that our algorithm falls short of this goal, but still gives acceptable performance.  We extract the file paths for the first 100 images from each of the datasets and store them in the numpy arrays `human_files_short` and `dog_files_short`.\n",
    "\n",
    "__Answer:__ \n",
    "pct human faces detected in human files: 96\n",
    "pct human faces detected in dog files: 11\n"
   ]
  },
  {
   "cell_type": "code",
   "execution_count": 6,
   "metadata": {},
   "outputs": [
    {
     "name": "stdout",
     "output_type": "stream",
     "text": [
      "pct human faces detected in human files: 96\n",
      "pct human faces detected in dog files: 11\n"
     ]
    }
   ],
   "source": [
    "human_files_short = human_files[:100]\n",
    "dog_files_short = train_files[:100]\n",
    "# Do NOT modify the code above this line.\n",
    "\n",
    "## TODO: Test the performance of the face_detector algorithm \n",
    "## on the images in human_files_short and dog_files_short.\n",
    "num_humans = 0\n",
    "\n",
    "def num_human_faces(files):\n",
    "    c = 0\n",
    "    for f in files:\n",
    "        if face_detector(f) is True:\n",
    "            c += 1\n",
    "    return c\n",
    "        \n",
    "print('pct human faces detected in human files: {}'.format(num_human_faces(human_files_short)))\n",
    "print('pct human faces detected in dog files: {}'.format(num_human_faces(dog_files_short)))"
   ]
  },
  {
   "cell_type": "markdown",
   "metadata": {},
   "source": [
    "__Question 2:__ This algorithmic choice necessitates that we communicate to the user that we accept human images only when they provide a clear view of a face (otherwise, we risk having unneccessarily frustrated users!). In your opinion, is this a reasonable expectation to pose on the user? If not, can you think of a way to detect humans in images that does not necessitate an image with a clearly presented face?\n",
    "\n",
    "__Answer:__\n",
    "This depends entirely on the real world use case. for instance a self driving car may implement an autounlock feature based on detecting the owners presence. In this case the background will be dynamic and it is up to the algorithm to deal with this. What should be defined is behaviour. The user should not have to guess whether the algorithm will work under different circumstances -- tolerances should be documented.\n",
    "\n",
    "We suggest the face detector from OpenCV as a potential way to detect human images in your algorithm, but you are free to explore other approaches, especially approaches that make use of deep learning :).  Please use the code cell below to design and test your own face detection algorithm.  If you decide to pursue this _optional_ task, report performance on each of the datasets."
   ]
  },
  {
   "cell_type": "code",
   "execution_count": 7,
   "metadata": {
    "collapsed": true
   },
   "outputs": [],
   "source": [
    "## (Optional) TODO: Report the performance of another  \n",
    "## face detection algorithm on the LFW dataset\n",
    "### Feel free to use as many code cells as needed."
   ]
  },
  {
   "cell_type": "markdown",
   "metadata": {},
   "source": [
    "---\n",
    "<a id='step2'></a>\n",
    "## Step 2: Detect Dogs\n",
    "\n",
    "In this section, we use a pre-trained [ResNet-50](http://ethereon.github.io/netscope/#/gist/db945b393d40bfa26006) model to detect dogs in images.  Our first line of code downloads the ResNet-50 model, along with weights that have been trained on [ImageNet](http://www.image-net.org/), a very large, very popular dataset used for image classification and other vision tasks.  ImageNet contains over 10 million URLs, each linking to an image containing an object from one of [1000 categories](https://gist.github.com/yrevar/942d3a0ac09ec9e5eb3a).  Given an image, this pre-trained ResNet-50 model returns a prediction (derived from the available categories in ImageNet) for the object that is contained in the image."
   ]
  },
  {
   "cell_type": "code",
   "execution_count": 8,
   "metadata": {
    "collapsed": true
   },
   "outputs": [],
   "source": [
    "from keras.applications.resnet50 import ResNet50\n",
    "\n",
    "# define ResNet50 model\n",
    "ResNet50_model = ResNet50(weights='imagenet')"
   ]
  },
  {
   "cell_type": "markdown",
   "metadata": {},
   "source": [
    "### Pre-process the Data\n",
    "\n",
    "When using TensorFlow as backend, Keras CNNs require a 4D array (which we'll also refer to as a 4D tensor) as input, with shape\n",
    "\n",
    "$$\n",
    "(\\text{nb_samples}, \\text{rows}, \\text{columns}, \\text{channels}),\n",
    "$$\n",
    "\n",
    "where `nb_samples` corresponds to the total number of images (or samples), and `rows`, `columns`, and `channels` correspond to the number of rows, columns, and channels for each image, respectively.  \n",
    "\n",
    "The `path_to_tensor` function below takes a string-valued file path to a color image as input and returns a 4D tensor suitable for supplying to a Keras CNN.  The function first loads the image and resizes it to a square image that is $224 \\times 224$ pixels.  Next, the image is converted to an array, which is then resized to a 4D tensor.  In this case, since we are working with color images, each image has three channels.  Likewise, since we are processing a single image (or sample), the returned tensor will always have shape\n",
    "\n",
    "$$\n",
    "(1, 224, 224, 3).\n",
    "$$\n",
    "\n",
    "The `paths_to_tensor` function takes a numpy array of string-valued image paths as input and returns a 4D tensor with shape \n",
    "\n",
    "$$\n",
    "(\\text{nb_samples}, 224, 224, 3).\n",
    "$$\n",
    "\n",
    "Here, `nb_samples` is the number of samples, or number of images, in the supplied array of image paths.  It is best to think of `nb_samples` as the number of 3D tensors (where each 3D tensor corresponds to a different image) in your dataset!"
   ]
  },
  {
   "cell_type": "code",
   "execution_count": 9,
   "metadata": {
    "collapsed": true
   },
   "outputs": [],
   "source": [
    "from keras.preprocessing import image                  \n",
    "from tqdm import tqdm\n",
    "\n",
    "def path_to_tensor(img_path):\n",
    "    # loads RGB image as PIL.Image.Image type\n",
    "    img = image.load_img(img_path, target_size=(224, 224))\n",
    "    # convert PIL.Image.Image type to 3D tensor with shape (224, 224, 3)\n",
    "    x = image.img_to_array(img)\n",
    "    # convert 3D tensor to 4D tensor with shape (1, 224, 224, 3) and return 4D tensor\n",
    "    return np.expand_dims(x, axis=0)\n",
    "\n",
    "def paths_to_tensor(img_paths):\n",
    "    list_of_tensors = [path_to_tensor(img_path) for img_path in tqdm(img_paths)]\n",
    "    return np.vstack(list_of_tensors)"
   ]
  },
  {
   "cell_type": "markdown",
   "metadata": {},
   "source": [
    "### Making Predictions with ResNet-50\n",
    "\n",
    "Getting the 4D tensor ready for ResNet-50, and for any other pre-trained model in Keras, requires some additional processing.  First, the RGB image is converted to BGR by reordering the channels.  All pre-trained models have the additional normalization step that the mean pixel (expressed in RGB as $[103.939, 116.779, 123.68]$ and calculated from all pixels in all images in ImageNet) must be subtracted from every pixel in each image.  This is implemented in the imported function `preprocess_input`.  If you're curious, you can check the code for `preprocess_input` [here](https://github.com/fchollet/keras/blob/master/keras/applications/imagenet_utils.py).\n",
    "\n",
    "Now that we have a way to format our image for supplying to ResNet-50, we are now ready to use the model to extract the predictions.  This is accomplished with the `predict` method, which returns an array whose $i$-th entry is the model's predicted probability that the image belongs to the $i$-th ImageNet category.  This is implemented in the `ResNet50_predict_labels` function below.\n",
    "\n",
    "By taking the argmax of the predicted probability vector, we obtain an integer corresponding to the model's predicted object class, which we can identify with an object category through the use of this [dictionary](https://gist.github.com/yrevar/942d3a0ac09ec9e5eb3a). "
   ]
  },
  {
   "cell_type": "code",
   "execution_count": 10,
   "metadata": {
    "collapsed": true
   },
   "outputs": [],
   "source": [
    "from keras.applications.resnet50 import preprocess_input, decode_predictions\n",
    "\n",
    "def ResNet50_predict_labels(img_path):\n",
    "    # returns prediction vector for image located at img_path\n",
    "    img = preprocess_input(path_to_tensor(img_path))\n",
    "    return np.argmax(ResNet50_model.predict(img))"
   ]
  },
  {
   "cell_type": "markdown",
   "metadata": {},
   "source": [
    "### Write a Dog Detector\n",
    "\n",
    "While looking at the [dictionary](https://gist.github.com/yrevar/942d3a0ac09ec9e5eb3a), you will notice that the categories corresponding to dogs appear in an uninterrupted sequence and correspond to dictionary keys 151-268, inclusive, to include all categories from `'Chihuahua'` to `'Mexican hairless'`.  Thus, in order to check to see if an image is predicted to contain a dog by the pre-trained ResNet-50 model, we need only check if the `ResNet50_predict_labels` function above returns a value between 151 and 268 (inclusive).\n",
    "\n",
    "We use these ideas to complete the `dog_detector` function below, which returns `True` if a dog is detected in an image (and `False` if not)."
   ]
  },
  {
   "cell_type": "code",
   "execution_count": 11,
   "metadata": {
    "collapsed": true
   },
   "outputs": [],
   "source": [
    "### returns \"True\" if a dog is detected in the image stored at img_path\n",
    "def dog_detector(img_path):\n",
    "    prediction = ResNet50_predict_labels(img_path)\n",
    "    return ((prediction <= 268) & (prediction >= 151)) "
   ]
  },
  {
   "cell_type": "markdown",
   "metadata": {},
   "source": [
    "### (IMPLEMENTATION) Assess the Dog Detector\n",
    "\n",
    "__Question 3:__ Use the code cell below to test the performance of your `dog_detector` function.  \n",
    "- What percentage of the images in `human_files_short` have a detected dog?  \n",
    "- What percentage of the images in `dog_files_short` have a detected dog?\n",
    "\n",
    "__Answer:__ "
   ]
  },
  {
   "cell_type": "code",
   "execution_count": 24,
   "metadata": {},
   "outputs": [
    {
     "name": "stdout",
     "output_type": "stream",
     "text": [
      "human count: 1\n",
      "dog count: 100\n"
     ]
    }
   ],
   "source": [
    "### TODO: Test the performance of the dog_detector function\n",
    "### on the images in human_files_short and dog_files_short.\n",
    "human_count = 0\n",
    "for image_path in human_files_short:\n",
    "    if dog_detector(image_path):\n",
    "        human_count += 1\n",
    "\n",
    "dog_count = 0\n",
    "for image_path in dog_files_short:\n",
    "    if dog_detector(image_path):\n",
    "        dog_count += 1\n",
    "\n",
    "print('human count: {}'.format(human_count))\n",
    "print('dog count: {}'.format(dog_count))"
   ]
  },
  {
   "cell_type": "markdown",
   "metadata": {},
   "source": [
    "---\n",
    "<a id='step3'></a>\n",
    "## Step 3: Create a CNN to Classify Dog Breeds (from Scratch)\n",
    "\n",
    "Now that we have functions for detecting humans and dogs in images, we need a way to predict breed from images.  In this step, you will create a CNN that classifies dog breeds.  You must create your CNN _from scratch_ (so, you can't use transfer learning _yet_!), and you must attain a test accuracy of at least 1%.  In Step 5 of this notebook, you will have the opportunity to use transfer learning to create a CNN that attains greatly improved accuracy.\n",
    "\n",
    "Be careful with adding too many trainable layers!  More parameters means longer training, which means you are more likely to need a GPU to accelerate the training process.  Thankfully, Keras provides a handy estimate of the time that each epoch is likely to take; you can extrapolate this estimate to figure out how long it will take for your algorithm to train. \n",
    "\n",
    "We mention that the task of assigning breed to dogs from images is considered exceptionally challenging.  To see why, consider that *even a human* would have great difficulty in distinguishing between a Brittany and a Welsh Springer Spaniel.  \n",
    "\n",
    "Brittany | Welsh Springer Spaniel\n",
    "- | - \n",
    "<img src=\"images/Brittany_02625.jpg\" width=\"100\"> | <img src=\"images/Welsh_springer_spaniel_08203.jpg\" width=\"200\">\n",
    "\n",
    "It is not difficult to find other dog breed pairs with minimal inter-class variation (for instance, Curly-Coated Retrievers and American Water Spaniels).  \n",
    "\n",
    "Curly-Coated Retriever | American Water Spaniel\n",
    "- | -\n",
    "<img src=\"images/Curly-coated_retriever_03896.jpg\" width=\"200\"> | <img src=\"images/American_water_spaniel_00648.jpg\" width=\"200\">\n",
    "\n",
    "\n",
    "Likewise, recall that labradors come in yellow, chocolate, and black.  Your vision-based algorithm will have to conquer this high intra-class variation to determine how to classify all of these different shades as the same breed.  \n",
    "\n",
    "Yellow Labrador | Chocolate Labrador | Black Labrador\n",
    "- | -\n",
    "<img src=\"images/Labrador_retriever_06457.jpg\" width=\"150\"> | <img src=\"images/Labrador_retriever_06455.jpg\" width=\"240\"> | <img src=\"images/Labrador_retriever_06449.jpg\" width=\"220\">\n",
    "\n",
    "We also mention that random chance presents an exceptionally low bar: setting aside the fact that the classes are slightly imabalanced, a random guess will provide a correct answer roughly 1 in 133 times, which corresponds to an accuracy of less than 1%.  \n",
    "\n",
    "Remember that the practice is far ahead of the theory in deep learning.  Experiment with many different architectures, and trust your intuition.  And, of course, have fun! \n",
    "\n",
    "### Pre-process the Data\n",
    "\n",
    "We rescale the images by dividing every pixel in every image by 255."
   ]
  },
  {
   "cell_type": "code",
   "execution_count": 13,
   "metadata": {},
   "outputs": [
    {
     "name": "stderr",
     "output_type": "stream",
     "text": [
      "100%|██████████| 6680/6680 [00:36<00:00, 183.32it/s]\n",
      "100%|██████████| 835/835 [00:04<00:00, 203.54it/s]\n",
      "100%|██████████| 836/836 [00:04<00:00, 206.43it/s]\n"
     ]
    }
   ],
   "source": [
    "from PIL import ImageFile                            \n",
    "ImageFile.LOAD_TRUNCATED_IMAGES = True                 \n",
    "\n",
    "# pre-process the data for Keras\n",
    "train_tensors = paths_to_tensor(train_files).astype('float32')/255\n",
    "valid_tensors = paths_to_tensor(valid_files).astype('float32')/255\n",
    "test_tensors = paths_to_tensor(test_files).astype('float32')/255"
   ]
  },
  {
   "cell_type": "markdown",
   "metadata": {},
   "source": [
    "### (IMPLEMENTATION) Model Architecture\n",
    "\n",
    "Create a CNN to classify dog breed.  At the end of your code cell block, summarize the layers of your model by executing the line:\n",
    "    \n",
    "        model.summary()\n",
    "\n",
    "We have imported some Python modules to get you started, but feel free to import as many modules as you need.  If you end up getting stuck, here's a hint that specifies a model that trains relatively fast on CPU and attains >1% test accuracy in 5 epochs:\n",
    "\n",
    "![Sample CNN](images/sample_cnn.png)\n",
    "           \n",
    "__Question 4:__ Outline the steps you took to get to your final CNN architecture and your reasoning at each step.  If you chose to use the hinted architecture above, describe why you think that CNN architecture should work well for the image classification task.\n",
    "\n",
    "__Answer:__ \n",
    "after experimentation, varying number of filters and kernel size, it was found that an architecture similar to the example was preffered as it gave a balance between training time and accuracy. This was done on a CPU and demonstrated significantly to the student that a GPU is requirued. Given the delivery time for the GPU is much greater than training time on CPU this model will have to do.\n",
    "Max pooling layers were chosen on reccomendation of the lectures. \n",
    "The stack of 3 convolutional/max pooling layers was chosen as it was presented in the example, realistically the number of layers is something to experiment with and should be assesed based on training time and data available. \n",
    "With more layers there is the benefit of greater dimensionality which can allow for more accurate classification. Additional layers come at the expense of increased training time, due to the vanishing gradient problem."
   ]
  },
  {
   "cell_type": "code",
   "execution_count": 14,
   "metadata": {},
   "outputs": [
    {
     "name": "stdout",
     "output_type": "stream",
     "text": [
      "_________________________________________________________________\n",
      "Layer (type)                 Output Shape              Param #   \n",
      "=================================================================\n",
      "conv2d_1 (Conv2D)            (None, 224, 224, 16)      3088      \n",
      "_________________________________________________________________\n",
      "max_pooling2d_2 (MaxPooling2 (None, 112, 112, 16)      0         \n",
      "_________________________________________________________________\n",
      "conv2d_2 (Conv2D)            (None, 112, 112, 32)      32800     \n",
      "_________________________________________________________________\n",
      "max_pooling2d_3 (MaxPooling2 (None, 56, 56, 32)        0         \n",
      "_________________________________________________________________\n",
      "conv2d_3 (Conv2D)            (None, 56, 56, 64)        131136    \n",
      "_________________________________________________________________\n",
      "max_pooling2d_4 (MaxPooling2 (None, 28, 28, 64)        0         \n",
      "_________________________________________________________________\n",
      "global_average_pooling2d_1 ( (None, 64)                0         \n",
      "_________________________________________________________________\n",
      "dense_1 (Dense)              (None, 133)               8645      \n",
      "=================================================================\n",
      "Total params: 175,669.0\n",
      "Trainable params: 175,669.0\n",
      "Non-trainable params: 0.0\n",
      "_________________________________________________________________\n"
     ]
    }
   ],
   "source": [
    "from collections import OrderedDict\n",
    "\n",
    "from keras.layers import Conv2D, MaxPooling2D, GlobalAveragePooling2D\n",
    "from keras.layers import Dropout, Flatten, Dense\n",
    "from keras.models import Sequential\n",
    "\n",
    "model = Sequential()\n",
    "\n",
    "input_shape = (224, 224, 3)\n",
    "\n",
    "### TODO: Define your architecture.\n",
    "layers = OrderedDict([\n",
    "    ('conv2d_1', Conv2D(filters=16, kernel_size=8, strides=1, \n",
    "                        padding='same', activation='relu', \n",
    "                        input_shape=input_shape)),\n",
    "    ('max_pooling2d_1', MaxPooling2D(pool_size=2, padding='same')),\n",
    "    ('conv2d_2', Conv2D(filters=32, kernel_size=8, \n",
    "                        strides=1, padding='same', activation='relu')),\n",
    "    ('max_pooling2d_2', MaxPooling2D(pool_size=2, padding='same')),\n",
    "    ('conv2d_3', Conv2D(filters=64, kernel_size=8, padding='same', \n",
    "                        strides=1, activation='relu')),\n",
    "    ('max_pooling2d_3', MaxPooling2D(pool_size=2, padding='same')),\n",
    "    ('global_average_pooling2d_1', GlobalAveragePooling2D()),\n",
    "    ('dense_1', Dense(units=133))\n",
    "])\n",
    "\n",
    "for layer in layers.values():\n",
    "    model.add(layer)\n",
    "\n",
    "model.summary()"
   ]
  },
  {
   "cell_type": "markdown",
   "metadata": {},
   "source": [
    "### Compile the Model"
   ]
  },
  {
   "cell_type": "code",
   "execution_count": 15,
   "metadata": {
    "collapsed": true
   },
   "outputs": [],
   "source": [
    "model.compile(optimizer='rmsprop', loss='categorical_crossentropy', metrics=['accuracy'])"
   ]
  },
  {
   "cell_type": "markdown",
   "metadata": {},
   "source": [
    "### (IMPLEMENTATION) Train the Model\n",
    "\n",
    "Train your model in the code cell below.  Use model checkpointing to save the model that attains the best validation loss.\n",
    "\n",
    "You are welcome to [augment the training data](https://blog.keras.io/building-powerful-image-classification-models-using-very-little-data.html), but this is not a requirement. "
   ]
  },
  {
   "cell_type": "code",
   "execution_count": 44,
   "metadata": {},
   "outputs": [
    {
     "name": "stdout",
     "output_type": "stream",
     "text": [
      "Train on 6680 samples, validate on 835 samples\n",
      "Epoch 1/5\n",
      "6660/6680 [============================>.] - ETA: 2s - loss: 8.6483 - acc: 0.0068Epoch 00000: val_loss improved from inf to 8.33894, saving model to saved_models/weights.best.from_scratch.hdf5\n",
      "6680/6680 [==============================] - 820s - loss: 8.6417 - acc: 0.0067 - val_loss: 8.3389 - val_acc: 0.0072\n",
      "Epoch 2/5\n",
      "6660/6680 [============================>.] - ETA: 2s - loss: 8.3398 - acc: 0.0071Epoch 00001: val_loss did not improve\n",
      "6680/6680 [==============================] - 845s - loss: 8.3486 - acc: 0.0070 - val_loss: 8.3389 - val_acc: 0.0072\n",
      "Epoch 3/5\n",
      "6660/6680 [============================>.] - ETA: 2s - loss: 8.3422 - acc: 0.0071Epoch 00002: val_loss did not improve\n",
      "6680/6680 [==============================] - 835s - loss: 8.3486 - acc: 0.0070 - val_loss: 8.3389 - val_acc: 0.0072\n",
      "Epoch 4/5\n",
      "6660/6680 [============================>.] - ETA: 2s - loss: 8.3470 - acc: 0.0071Epoch 00003: val_loss did not improve\n",
      "6680/6680 [==============================] - 867s - loss: 8.3486 - acc: 0.0070 - val_loss: 8.3389 - val_acc: 0.0072\n",
      "Epoch 5/5\n",
      "6660/6680 [============================>.] - ETA: 3s - loss: 8.3470 - acc: 0.0071Epoch 00004: val_loss did not improve\n",
      "6680/6680 [==============================] - 1085s - loss: 8.3486 - acc: 0.0070 - val_loss: 8.3389 - val_acc: 0.0072\n"
     ]
    },
    {
     "data": {
      "text/plain": [
       "<keras.callbacks.History at 0x7f571dda8e48>"
      ]
     },
     "execution_count": 44,
     "metadata": {},
     "output_type": "execute_result"
    }
   ],
   "source": [
    "from keras.callbacks import ModelCheckpoint  \n",
    "\n",
    "### TODO: specify the number of epochs that you would like to use to train the model.\n",
    "\n",
    "epochs = 5\n",
    "\n",
    "### Do NOT modify the code below this line.\n",
    "\n",
    "checkpointer = ModelCheckpoint(filepath='saved_models/weights.best.from_scratch.hdf5', \n",
    "                               verbose=1, save_best_only=True)\n",
    "\n",
    "model.fit(train_tensors, train_targets, \n",
    "          validation_data=(valid_tensors, valid_targets),\n",
    "          epochs=epochs, batch_size=20, callbacks=[checkpointer], verbose=1)"
   ]
  },
  {
   "cell_type": "markdown",
   "metadata": {},
   "source": [
    "### Load the Model with the Best Validation Loss"
   ]
  },
  {
   "cell_type": "code",
   "execution_count": 47,
   "metadata": {
    "collapsed": true
   },
   "outputs": [],
   "source": [
    "model.load_weights('saved_models/weights.best.from_scratch.hdf5')"
   ]
  },
  {
   "cell_type": "markdown",
   "metadata": {},
   "source": [
    "### Test the Model\n",
    "\n",
    "Try out your model on the test dataset of dog images.  Ensure that your test accuracy is greater than 1%."
   ]
  },
  {
   "cell_type": "code",
   "execution_count": 48,
   "metadata": {},
   "outputs": [
    {
     "name": "stdout",
     "output_type": "stream",
     "text": [
      "Test accuracy: 0.7177%\n"
     ]
    }
   ],
   "source": [
    "# get index of predicted dog breed for each image in test set\n",
    "dog_breed_predictions = [np.argmax(model.predict(np.expand_dims(tensor, axis=0))) for tensor in test_tensors]\n",
    "\n",
    "# report test accuracy\n",
    "test_accuracy = 100*np.sum(np.array(dog_breed_predictions)==np.argmax(test_targets, axis=1))/len(dog_breed_predictions)\n",
    "print('Test accuracy: %.4f%%' % test_accuracy)"
   ]
  },
  {
   "cell_type": "markdown",
   "metadata": {},
   "source": [
    "---\n",
    "<a id='step4'></a>\n",
    "## Step 4: Use a CNN to Classify Dog Breeds\n",
    "\n",
    "To reduce training time without sacrificing accuracy, we show you how to train a CNN using transfer learning.  In the following step, you will get a chance to use transfer learning to train your own CNN.\n",
    "\n",
    "### Obtain Bottleneck Features"
   ]
  },
  {
   "cell_type": "code",
   "execution_count": 17,
   "metadata": {
    "collapsed": true
   },
   "outputs": [],
   "source": [
    "bottleneck_features = np.load('bottleneck_features/DogVGG16Data.npz')\n",
    "train_VGG16 = bottleneck_features['train']\n",
    "valid_VGG16 = bottleneck_features['valid']\n",
    "test_VGG16 = bottleneck_features['test']"
   ]
  },
  {
   "cell_type": "markdown",
   "metadata": {},
   "source": [
    "### Model Architecture\n",
    "\n",
    "The model uses the the pre-trained VGG-16 model as a fixed feature extractor, where the last convolutional output of VGG-16 is fed as input to our model.  We only add a global average pooling layer and a fully connected layer, where the latter contains one node for each dog category and is equipped with a softmax."
   ]
  },
  {
   "cell_type": "code",
   "execution_count": 13,
   "metadata": {},
   "outputs": [
    {
     "ename": "NameError",
     "evalue": "name 'train_VGG16' is not defined",
     "output_type": "error",
     "traceback": [
      "\u001b[0;31m---------------------------------------------------------------------------\u001b[0m",
      "\u001b[0;31mNameError\u001b[0m                                 Traceback (most recent call last)",
      "\u001b[0;32m<ipython-input-13-870763387451>\u001b[0m in \u001b[0;36m<module>\u001b[0;34m()\u001b[0m\n\u001b[1;32m      1\u001b[0m \u001b[0mVGG16_model\u001b[0m \u001b[0;34m=\u001b[0m \u001b[0mSequential\u001b[0m\u001b[0;34m(\u001b[0m\u001b[0;34m)\u001b[0m\u001b[0;34m\u001b[0m\u001b[0m\n\u001b[0;32m----> 2\u001b[0;31m \u001b[0mVGG16_model\u001b[0m\u001b[0;34m.\u001b[0m\u001b[0madd\u001b[0m\u001b[0;34m(\u001b[0m\u001b[0mGlobalAveragePooling2D\u001b[0m\u001b[0;34m(\u001b[0m\u001b[0minput_shape\u001b[0m\u001b[0;34m=\u001b[0m\u001b[0mtrain_VGG16\u001b[0m\u001b[0;34m.\u001b[0m\u001b[0mshape\u001b[0m\u001b[0;34m[\u001b[0m\u001b[0;36m1\u001b[0m\u001b[0;34m:\u001b[0m\u001b[0;34m]\u001b[0m\u001b[0;34m)\u001b[0m\u001b[0;34m)\u001b[0m\u001b[0;34m\u001b[0m\u001b[0m\n\u001b[0m\u001b[1;32m      3\u001b[0m \u001b[0mVGG16_model\u001b[0m\u001b[0;34m.\u001b[0m\u001b[0madd\u001b[0m\u001b[0;34m(\u001b[0m\u001b[0mDense\u001b[0m\u001b[0;34m(\u001b[0m\u001b[0;36m133\u001b[0m\u001b[0;34m,\u001b[0m \u001b[0mactivation\u001b[0m\u001b[0;34m=\u001b[0m\u001b[0;34m'softmax'\u001b[0m\u001b[0;34m)\u001b[0m\u001b[0;34m)\u001b[0m\u001b[0;34m\u001b[0m\u001b[0m\n\u001b[1;32m      4\u001b[0m \u001b[0;34m\u001b[0m\u001b[0m\n\u001b[1;32m      5\u001b[0m \u001b[0mVGG16_model\u001b[0m\u001b[0;34m.\u001b[0m\u001b[0msummary\u001b[0m\u001b[0;34m(\u001b[0m\u001b[0;34m)\u001b[0m\u001b[0;34m\u001b[0m\u001b[0m\n",
      "\u001b[0;31mNameError\u001b[0m: name 'train_VGG16' is not defined"
     ]
    }
   ],
   "source": [
    "VGG16_model = Sequential()\n",
    "VGG16_model.add(GlobalAveragePooling2D(input_shape=train_VGG16.shape[1:]))\n",
    "VGG16_model.add(Dense(133, activation='softmax'))\n",
    "\n",
    "VGG16_model.summary()"
   ]
  },
  {
   "cell_type": "markdown",
   "metadata": {},
   "source": [
    "### Compile the Model"
   ]
  },
  {
   "cell_type": "code",
   "execution_count": 23,
   "metadata": {},
   "outputs": [
    {
     "ename": "NameError",
     "evalue": "name 'VGG16_model' is not defined",
     "output_type": "error",
     "traceback": [
      "\u001b[0;31m---------------------------------------------------------------------------\u001b[0m",
      "\u001b[0;31mNameError\u001b[0m                                 Traceback (most recent call last)",
      "\u001b[0;32m<ipython-input-23-07e390515e12>\u001b[0m in \u001b[0;36m<module>\u001b[0;34m()\u001b[0m\n\u001b[0;32m----> 1\u001b[0;31m \u001b[0mVGG16_model\u001b[0m\u001b[0;34m.\u001b[0m\u001b[0mcompile\u001b[0m\u001b[0;34m(\u001b[0m\u001b[0mloss\u001b[0m\u001b[0;34m=\u001b[0m\u001b[0;34m'categorical_crossentropy'\u001b[0m\u001b[0;34m,\u001b[0m \u001b[0moptimizer\u001b[0m\u001b[0;34m=\u001b[0m\u001b[0;34m'rmsprop'\u001b[0m\u001b[0;34m,\u001b[0m \u001b[0mmetrics\u001b[0m\u001b[0;34m=\u001b[0m\u001b[0;34m[\u001b[0m\u001b[0;34m'accuracy'\u001b[0m\u001b[0;34m]\u001b[0m\u001b[0;34m)\u001b[0m\u001b[0;34m\u001b[0m\u001b[0m\n\u001b[0m",
      "\u001b[0;31mNameError\u001b[0m: name 'VGG16_model' is not defined"
     ]
    }
   ],
   "source": [
    "VGG16_model.compile(loss='categorical_crossentropy', optimizer='rmsprop', metrics=['accuracy'])"
   ]
  },
  {
   "cell_type": "markdown",
   "metadata": {},
   "source": [
    "### Train the Model"
   ]
  },
  {
   "cell_type": "code",
   "execution_count": 21,
   "metadata": {},
   "outputs": [
    {
     "name": "stdout",
     "output_type": "stream",
     "text": [
      "Train on 6680 samples, validate on 835 samples\n",
      "Epoch 1/20\n",
      "6540/6680 [============================>.] - ETA: 0s - loss: 12.0047 - acc: 0.1271Epoch 00000: val_loss improved from inf to 10.49860, saving model to saved_models/weights.best.VGG16.hdf5\n",
      "6680/6680 [==============================] - 1s - loss: 11.9756 - acc: 0.1289 - val_loss: 10.4986 - val_acc: 0.2144\n",
      "Epoch 2/20\n",
      "6520/6680 [============================>.] - ETA: 0s - loss: 9.7103 - acc: 0.2982Epoch 00001: val_loss improved from 10.49860 to 9.83735, saving model to saved_models/weights.best.VGG16.hdf5\n",
      "6680/6680 [==============================] - 1s - loss: 9.7347 - acc: 0.2975 - val_loss: 9.8374 - val_acc: 0.2766\n",
      "Epoch 3/20\n",
      "6380/6680 [===========================>..] - ETA: 0s - loss: 9.1699 - acc: 0.3608Epoch 00002: val_loss improved from 9.83735 to 9.49827, saving model to saved_models/weights.best.VGG16.hdf5\n",
      "6680/6680 [==============================] - 1s - loss: 9.1693 - acc: 0.3615 - val_loss: 9.4983 - val_acc: 0.3162\n",
      "Epoch 4/20\n",
      "6620/6680 [============================>.] - ETA: 0s - loss: 8.9814 - acc: 0.3888Epoch 00003: val_loss improved from 9.49827 to 9.39178, saving model to saved_models/weights.best.VGG16.hdf5\n",
      "6680/6680 [==============================] - 1s - loss: 8.9640 - acc: 0.3898 - val_loss: 9.3918 - val_acc: 0.3377\n",
      "Epoch 5/20\n",
      "6600/6680 [============================>.] - ETA: 0s - loss: 8.7546 - acc: 0.4127Epoch 00004: val_loss improved from 9.39178 to 9.27185, saving model to saved_models/weights.best.VGG16.hdf5\n",
      "6680/6680 [==============================] - 1s - loss: 8.7481 - acc: 0.4129 - val_loss: 9.2718 - val_acc: 0.3437\n",
      "Epoch 6/20\n",
      "6420/6680 [===========================>..] - ETA: 0s - loss: 8.6712 - acc: 0.4291Epoch 00005: val_loss improved from 9.27185 to 9.22516, saving model to saved_models/weights.best.VGG16.hdf5\n",
      "6680/6680 [==============================] - 1s - loss: 8.6326 - acc: 0.4313 - val_loss: 9.2252 - val_acc: 0.3497\n",
      "Epoch 7/20\n",
      "6480/6680 [============================>.] - ETA: 0s - loss: 8.5618 - acc: 0.4441Epoch 00006: val_loss did not improve\n",
      "6680/6680 [==============================] - 1s - loss: 8.5616 - acc: 0.4442 - val_loss: 9.2820 - val_acc: 0.3365\n",
      "Epoch 8/20\n",
      "6420/6680 [===========================>..] - ETA: 0s - loss: 8.4690 - acc: 0.4514Epoch 00007: val_loss improved from 9.22516 to 9.03019, saving model to saved_models/weights.best.VGG16.hdf5\n",
      "6680/6680 [==============================] - 1s - loss: 8.4658 - acc: 0.4506 - val_loss: 9.0302 - val_acc: 0.3629\n",
      "Epoch 9/20\n",
      "6580/6680 [============================>.] - ETA: 0s - loss: 8.1753 - acc: 0.4605Epoch 00008: val_loss improved from 9.03019 to 8.78203, saving model to saved_models/weights.best.VGG16.hdf5\n",
      "6680/6680 [==============================] - 1s - loss: 8.1821 - acc: 0.4600 - val_loss: 8.7820 - val_acc: 0.3605\n",
      "Epoch 10/20\n",
      "6480/6680 [============================>.] - ETA: 0s - loss: 7.9290 - acc: 0.4804Epoch 00009: val_loss improved from 8.78203 to 8.60566, saving model to saved_models/weights.best.VGG16.hdf5\n",
      "6680/6680 [==============================] - 1s - loss: 7.9316 - acc: 0.4801 - val_loss: 8.6057 - val_acc: 0.3820\n",
      "Epoch 11/20\n",
      "6440/6680 [===========================>..] - ETA: 0s - loss: 7.7263 - acc: 0.4950Epoch 00010: val_loss improved from 8.60566 to 8.46208, saving model to saved_models/weights.best.VGG16.hdf5\n",
      "6680/6680 [==============================] - 1s - loss: 7.7227 - acc: 0.4954 - val_loss: 8.4621 - val_acc: 0.4000\n",
      "Epoch 12/20\n",
      "6540/6680 [============================>.] - ETA: 0s - loss: 7.6375 - acc: 0.5104Epoch 00011: val_loss improved from 8.46208 to 8.45362, saving model to saved_models/weights.best.VGG16.hdf5\n",
      "6680/6680 [==============================] - 1s - loss: 7.6511 - acc: 0.5090 - val_loss: 8.4536 - val_acc: 0.3916\n",
      "Epoch 13/20\n",
      "6620/6680 [============================>.] - ETA: 0s - loss: 7.4811 - acc: 0.5156Epoch 00012: val_loss improved from 8.45362 to 8.23990, saving model to saved_models/weights.best.VGG16.hdf5\n",
      "6680/6680 [==============================] - 1s - loss: 7.4723 - acc: 0.5162 - val_loss: 8.2399 - val_acc: 0.4120\n",
      "Epoch 14/20\n",
      "6500/6680 [============================>.] - ETA: 0s - loss: 7.3783 - acc: 0.5258Epoch 00013: val_loss improved from 8.23990 to 8.12748, saving model to saved_models/weights.best.VGG16.hdf5\n",
      "6680/6680 [==============================] - 1s - loss: 7.3597 - acc: 0.5272 - val_loss: 8.1275 - val_acc: 0.4156\n",
      "Epoch 15/20\n",
      "6380/6680 [===========================>..] - ETA: 0s - loss: 7.2290 - acc: 0.5387Epoch 00014: val_loss did not improve\n",
      "6680/6680 [==============================] - 1s - loss: 7.2491 - acc: 0.5373 - val_loss: 8.1550 - val_acc: 0.4168\n",
      "Epoch 16/20\n",
      "6480/6680 [============================>.] - ETA: 0s - loss: 7.1921 - acc: 0.5394Epoch 00015: val_loss did not improve\n",
      "6680/6680 [==============================] - 1s - loss: 7.1916 - acc: 0.5388 - val_loss: 8.2387 - val_acc: 0.4108\n",
      "Epoch 17/20\n",
      "6520/6680 [============================>.] - ETA: 0s - loss: 7.1214 - acc: 0.5474Epoch 00016: val_loss did not improve\n",
      "6680/6680 [==============================] - 1s - loss: 7.1222 - acc: 0.5473 - val_loss: 8.1789 - val_acc: 0.4096\n",
      "Epoch 18/20\n",
      "6420/6680 [===========================>..] - ETA: 0s - loss: 7.0760 - acc: 0.5492Epoch 00017: val_loss improved from 8.12748 to 8.05535, saving model to saved_models/weights.best.VGG16.hdf5\n",
      "6680/6680 [==============================] - 1s - loss: 7.0702 - acc: 0.5493 - val_loss: 8.0553 - val_acc: 0.4180\n",
      "Epoch 19/20\n",
      "6460/6680 [============================>.] - ETA: 0s - loss: 6.8353 - acc: 0.5611Epoch 00018: val_loss improved from 8.05535 to 7.95338, saving model to saved_models/weights.best.VGG16.hdf5\n",
      "6680/6680 [==============================] - 1s - loss: 6.8708 - acc: 0.5582 - val_loss: 7.9534 - val_acc: 0.4216\n",
      "Epoch 20/20\n",
      "6480/6680 [============================>.] - ETA: 0s - loss: 6.7969 - acc: 0.5704Epoch 00019: val_loss improved from 7.95338 to 7.88043, saving model to saved_models/weights.best.VGG16.hdf5\n",
      "6680/6680 [==============================] - 1s - loss: 6.7919 - acc: 0.5707 - val_loss: 7.8804 - val_acc: 0.4287\n"
     ]
    },
    {
     "data": {
      "text/plain": [
       "<keras.callbacks.History at 0x7f5ee365f7f0>"
      ]
     },
     "execution_count": 21,
     "metadata": {},
     "output_type": "execute_result"
    }
   ],
   "source": [
    "from keras.callbacks import ModelCheckpoint\n",
    "\n",
    "checkpointer = ModelCheckpoint(filepath='saved_models/weights.best.VGG16.hdf5', \n",
    "                               verbose=1, save_best_only=True)\n",
    "\n",
    "VGG16_model.fit(train_VGG16, train_targets, \n",
    "          validation_data=(valid_VGG16, valid_targets),\n",
    "          epochs=20, batch_size=20, callbacks=[checkpointer], verbose=1)"
   ]
  },
  {
   "cell_type": "markdown",
   "metadata": {},
   "source": [
    "### Load the Model with the Best Validation Loss"
   ]
  },
  {
   "cell_type": "code",
   "execution_count": 22,
   "metadata": {
    "collapsed": true
   },
   "outputs": [],
   "source": [
    "VGG16_model.load_weights('saved_models/weights.best.VGG16.hdf5')"
   ]
  },
  {
   "cell_type": "markdown",
   "metadata": {},
   "source": [
    "### Test the Model\n",
    "\n",
    "Now, we can use the CNN to test how well it identifies breed within our test dataset of dog images.  We print the test accuracy below."
   ]
  },
  {
   "cell_type": "code",
   "execution_count": 23,
   "metadata": {},
   "outputs": [
    {
     "name": "stdout",
     "output_type": "stream",
     "text": [
      "Test accuracy: 46.0526%\n"
     ]
    }
   ],
   "source": [
    "# get index of predicted dog breed for each image in test set\n",
    "VGG16_predictions = [np.argmax(VGG16_model.predict(np.expand_dims(feature, axis=0))) for feature in test_VGG16]\n",
    "\n",
    "# report test accuracy\n",
    "test_accuracy = 100*np.sum(np.array(VGG16_predictions)==np.argmax(test_targets, axis=1))/len(VGG16_predictions)\n",
    "print('Test accuracy: %.4f%%' % test_accuracy)"
   ]
  },
  {
   "cell_type": "markdown",
   "metadata": {},
   "source": [
    "### Predict Dog Breed with the Model"
   ]
  },
  {
   "cell_type": "code",
   "execution_count": 16,
   "metadata": {
    "collapsed": true
   },
   "outputs": [],
   "source": [
    "from extract_bottleneck_features import *\n",
    "\n",
    "def VGG16_predict_breed(img_path):\n",
    "    # extract bottleneck features\n",
    "    bottleneck_feature = extract_VGG16(path_to_tensor(img_path))\n",
    "    # obtain predicted vector\n",
    "    predicted_vector = VGG16_model.predict(bottleneck_feature)\n",
    "    # return dog breed that is predicted by the model\n",
    "    return dog_names[np.argmax(predicted_vector)]"
   ]
  },
  {
   "cell_type": "markdown",
   "metadata": {},
   "source": [
    "---\n",
    "<a id='step5'></a>\n",
    "## Step 5: Create a CNN to Classify Dog Breeds (using Transfer Learning)\n",
    "\n",
    "You will now use transfer learning to create a CNN that can identify dog breed from images.  Your CNN must attain at least 60% accuracy on the test set.\n",
    "\n",
    "In Step 4, we used transfer learning to create a CNN using VGG-16 bottleneck features.  In this section, you must use the bottleneck features from a different pre-trained model.  To make things easier for you, we have pre-computed the features for all of the networks that are currently available in Keras:\n",
    "- [VGG-19](https://s3-us-west-1.amazonaws.com/udacity-aind/dog-project/DogVGG19Data.npz) bottleneck features\n",
    "- [ResNet-50](https://s3-us-west-1.amazonaws.com/udacity-aind/dog-project/DogResnet50Data.npz) bottleneck features\n",
    "- [Inception](https://s3-us-west-1.amazonaws.com/udacity-aind/dog-project/DogInceptionV3Data.npz) bottleneck features\n",
    "- [Xception](https://s3-us-west-1.amazonaws.com/udacity-aind/dog-project/DogXceptionData.npz) bottleneck features\n",
    "\n",
    "The files are encoded as such:\n",
    "\n",
    "    Dog{network}Data.npz\n",
    "    \n",
    "where `{network}`, in the above filename, can be one of `VGG19`, `Resnet50`, `InceptionV3`, or `Xception`.  Pick one of the above architectures, download the corresponding bottleneck features, and store the downloaded file in the `bottleneck_features/` folder in the repository.\n",
    "\n",
    "### (IMPLEMENTATION) Obtain Bottleneck Features\n",
    "\n",
    "In the code block below, extract the bottleneck features corresponding to the train, test, and validation sets by running the following:\n",
    "\n",
    "    bottleneck_features = np.load('bottleneck_features/Dog{network}Data.npz')\n",
    "    train_{network} = bottleneck_features['train']\n",
    "    valid_{network} = bottleneck_features['valid']\n",
    "    test_{network} = bottleneck_features['test']"
   ]
  },
  {
   "cell_type": "code",
   "execution_count": 17,
   "metadata": {
    "collapsed": true
   },
   "outputs": [],
   "source": [
    "### TODO: Obtain bottleneck features from another pre-trained CNN.\n",
    "bottleneck_features = None\n",
    "train_vgg16 = None\n",
    "\n",
    "\n",
    "dataset_names = [\n",
    "            'VGG16',\n",
    "            'VGG19',\n",
    "            'Resnet50',\n",
    "            'InceptionV3',\n",
    "            'Xception'\n",
    "        ]\n",
    "\n",
    "def save_file_name(dataset_name):\n",
    "    return 'saved_models/weights.best.pre_{}.hdf5'.format(name)\n",
    "\n",
    "\n",
    "class PreTrainedFeatures(object):\n",
    "    def __init__(self, dataset_names=dataset_names):\n",
    "        self.datasets = iter(dataset_names)        \n",
    "    \n",
    "    def __iter__(self):\n",
    "        return self\n",
    "    \n",
    "    def load_data(self, name):\n",
    "        bottleneck_features = np.load(\n",
    "            'bottleneck_features/Dog{}Data.npz'.format(name))\n",
    "        \n",
    "        train = bottleneck_features['train']\n",
    "        valid = bottleneck_features['valid']\n",
    "        test = bottleneck_features['test']\n",
    "        return name, train, valid, test\n",
    "    \n",
    "    def __next__(self):\n",
    "        dataset_name = next(self.datasets)\n",
    "        return self.load_data(dataset_name)\n",
    "    "
   ]
  },
  {
   "cell_type": "markdown",
   "metadata": {},
   "source": [
    "### (IMPLEMENTATION) Model Architecture\n",
    "\n",
    "Create a CNN to classify dog breed.  At the end of your code cell block, summarize the layers of your model by executing the line:\n",
    "    \n",
    "        <your model's name>.summary()\n",
    "   \n",
    "__Question 5:__ Outline the steps you took to get to your final CNN architecture and your reasoning at each step.  Describe why you think the architecture is suitable for the current problem.\n",
    "\n",
    "__Answer:__ \n",
    "Two models were initially compared, one with a flattened layer vs global average pooling. The flat layer was immediately discarded due to the the relatively large number of trainable parameters, over 3 million vs the almost 70,000 of the gap layer.\n",
    "When testing this, as can be seen below a model of ~80% accuracy was achieved."
   ]
  },
  {
   "cell_type": "code",
   "execution_count": 18,
   "metadata": {},
   "outputs": [
    {
     "name": "stdout",
     "output_type": "stream",
     "text": [
      "_________________________________________________________________\n",
      "Layer (type)                 Output Shape              Param #   \n",
      "=================================================================\n",
      "flatten_2 (Flatten)          (None, 25088)             0         \n",
      "_________________________________________________________________\n",
      "dense_2 (Dense)              (None, 133)               3336837   \n",
      "=================================================================\n",
      "Total params: 3,336,837.0\n",
      "Trainable params: 3,336,837.0\n",
      "Non-trainable params: 0.0\n",
      "_________________________________________________________________\n",
      "_________________________________________________________________\n",
      "Layer (type)                 Output Shape              Param #   \n",
      "=================================================================\n",
      "global_average_pooling2d_2 ( (None, 512)               0         \n",
      "_________________________________________________________________\n",
      "dense_3 (Dense)              (None, 133)               68229     \n",
      "=================================================================\n",
      "Total params: 68,229.0\n",
      "Trainable params: 68,229.0\n",
      "Non-trainable params: 0.0\n",
      "_________________________________________________________________\n"
     ]
    }
   ],
   "source": [
    "### TODO: Define your architecture.\n",
    "from keras.models import Sequential\n",
    "from keras.layers import Flatten, GlobalAveragePooling2D, Dense\n",
    "\n",
    "input_shape = (7, 7, 512)\n",
    "\n",
    "flat_layer = Flatten(input_shape=input_shape)\n",
    "gap_layer = GlobalAveragePooling2D(input_shape=input_shape)\n",
    "dense_layer_flat = Dense(133, activation='softmax')\n",
    "dense_layer_gap = Dense(133, activation='softmax')\n",
    "\n",
    "# lets get an idea of our \n",
    "model_flat = Sequential()\n",
    "model_flat.add(flat_layer)\n",
    "model_flat.add(dense_layer_flat)\n",
    "model_flat.summary()\n",
    "\n",
    "model_gap = Sequential()\n",
    "model_gap.add(gap_layer)\n",
    "model_gap.add(dense_layer_gap)\n",
    "model_gap.summary()\n",
    "\n",
    "\n",
    "def build_model(input_shape=input_shape):\n",
    "    gap_layer = GlobalAveragePooling2D(input_shape=input_shape)\n",
    "    dense_layer_gap = Dense(133, activation='softmax')\n",
    "    model_gap = Sequential()\n",
    "    model_gap.add(gap_layer)\n",
    "    model_gap.add(dense_layer_gap)\n",
    "    return model_gap\n",
    "\n",
    "\n",
    "def test_accuracy(predictions, test_targets=test_targets):\n",
    "    return 100*np.sum(np.array(predictions)==np.argmax(test_targets, axis=1))/len(predictions)\n"
   ]
  },
  {
   "cell_type": "markdown",
   "metadata": {},
   "source": [
    "### (IMPLEMENTATION) Compile the Model"
   ]
  },
  {
   "cell_type": "code",
   "execution_count": 17,
   "metadata": {
    "collapsed": true
   },
   "outputs": [],
   "source": [
    "### TODO: Compile the model.\n",
    "model_flat.compile(loss='categorical_crossentropy', optimizer='rmsprop', metrics=['accuracy'])\n",
    "model_gap.compile(loss='categorical_crossentropy', optimizer='rmsprop', metrics=['accuracy'])"
   ]
  },
  {
   "cell_type": "markdown",
   "metadata": {},
   "source": [
    "### (IMPLEMENTATION) Train the Model\n",
    "\n",
    "Train your model in the code cell below.  Use model checkpointing to save the model that attains the best validation loss.  \n",
    "\n",
    "You are welcome to [augment the training data](https://blog.keras.io/building-powerful-image-classification-models-using-very-little-data.html), but this is not a requirement. "
   ]
  },
  {
   "cell_type": "code",
   "execution_count": 41,
   "metadata": {},
   "outputs": [
    {
     "name": "stdout",
     "output_type": "stream",
     "text": [
      "\n",
      "\n",
      "working on dataset: VGG16\n",
      "with shape: (7, 7, 512)\n",
      "_________________________________________________________________\n",
      "Layer (type)                 Output Shape              Param #   \n",
      "=================================================================\n",
      "global_average_pooling2d_32  (None, 512)               0         \n",
      "_________________________________________________________________\n",
      "dense_34 (Dense)             (None, 133)               68229     \n",
      "=================================================================\n",
      "Total params: 68,229.0\n",
      "Trainable params: 68,229.0\n",
      "Non-trainable params: 0.0\n",
      "_________________________________________________________________\n",
      "Train on 6680 samples, validate on 835 samples\n",
      "Epoch 1/20\n",
      "6480/6680 [============================>.] - ETA: 0s - loss: 11.9853 - acc: 0.1235Epoch 00000: val_loss improved from inf to 10.03325, saving model to saved_models/weights.best.pre_VGG16.hdf5\n",
      "6680/6680 [==============================] - 1s - loss: 11.9474 - acc: 0.1271 - val_loss: 10.0332 - val_acc: 0.2383\n",
      "Epoch 2/20\n",
      "6320/6680 [===========================>..] - ETA: 0s - loss: 9.3958 - acc: 0.3117Epoch 00001: val_loss improved from 10.03325 to 9.37338, saving model to saved_models/weights.best.pre_VGG16.hdf5\n",
      "6680/6680 [==============================] - 1s - loss: 9.3670 - acc: 0.3142 - val_loss: 9.3734 - val_acc: 0.3042\n",
      "Epoch 3/20\n",
      "6380/6680 [===========================>..] - ETA: 0s - loss: 8.8756 - acc: 0.3801Epoch 00002: val_loss improved from 9.37338 to 9.10900, saving model to saved_models/weights.best.pre_VGG16.hdf5\n",
      "6680/6680 [==============================] - 1s - loss: 8.8877 - acc: 0.3787 - val_loss: 9.1090 - val_acc: 0.3365\n",
      "Epoch 4/20\n",
      "6520/6680 [============================>.] - ETA: 0s - loss: 8.6638 - acc: 0.4143Epoch 00003: val_loss improved from 9.10900 to 9.06250, saving model to saved_models/weights.best.pre_VGG16.hdf5\n",
      "6680/6680 [==============================] - 1s - loss: 8.6851 - acc: 0.4124 - val_loss: 9.0625 - val_acc: 0.3521\n",
      "Epoch 5/20\n",
      "6380/6680 [===========================>..] - ETA: 0s - loss: 8.4796 - acc: 0.4354Epoch 00004: val_loss did not improve\n",
      "6680/6680 [==============================] - 1s - loss: 8.4914 - acc: 0.4352 - val_loss: 9.0830 - val_acc: 0.3437\n",
      "Epoch 6/20\n",
      "6580/6680 [============================>.] - ETA: 0s - loss: 8.3562 - acc: 0.4506Epoch 00005: val_loss improved from 9.06250 to 8.87789, saving model to saved_models/weights.best.pre_VGG16.hdf5\n",
      "6680/6680 [==============================] - 1s - loss: 8.3640 - acc: 0.4496 - val_loss: 8.8779 - val_acc: 0.3629\n",
      "Epoch 7/20\n",
      "6340/6680 [===========================>..] - ETA: 0s - loss: 8.2531 - acc: 0.4625Epoch 00006: val_loss improved from 8.87789 to 8.81080, saving model to saved_models/weights.best.pre_VGG16.hdf5\n",
      "6680/6680 [==============================] - 1s - loss: 8.2336 - acc: 0.4635 - val_loss: 8.8108 - val_acc: 0.3641\n",
      "Epoch 8/20\n",
      "6640/6680 [============================>.] - ETA: 0s - loss: 8.0703 - acc: 0.4768Epoch 00007: val_loss improved from 8.81080 to 8.59821, saving model to saved_models/weights.best.pre_VGG16.hdf5\n",
      "6680/6680 [==============================] - 1s - loss: 8.0664 - acc: 0.4769 - val_loss: 8.5982 - val_acc: 0.3856\n",
      "Epoch 9/20\n",
      "6560/6680 [============================>.] - ETA: 0s - loss: 7.9492 - acc: 0.4909Epoch 00008: val_loss did not improve\n",
      "6680/6680 [==============================] - 1s - loss: 7.9472 - acc: 0.4910 - val_loss: 8.6252 - val_acc: 0.3940\n",
      "Epoch 10/20\n",
      "6400/6680 [===========================>..] - ETA: 0s - loss: 7.9328 - acc: 0.4969Epoch 00009: val_loss improved from 8.59821 to 8.56264, saving model to saved_models/weights.best.pre_VGG16.hdf5\n",
      "6680/6680 [==============================] - 1s - loss: 7.9170 - acc: 0.4975 - val_loss: 8.5626 - val_acc: 0.3916\n",
      "Epoch 11/20\n",
      "6660/6680 [============================>.] - ETA: 0s - loss: 7.8693 - acc: 0.4995Epoch 00010: val_loss improved from 8.56264 to 8.54477, saving model to saved_models/weights.best.pre_VGG16.hdf5\n",
      "6680/6680 [==============================] - 1s - loss: 7.8675 - acc: 0.4997 - val_loss: 8.5448 - val_acc: 0.3952\n",
      "Epoch 12/20\n",
      "6560/6680 [============================>.] - ETA: 0s - loss: 7.7370 - acc: 0.5088Epoch 00011: val_loss improved from 8.54477 to 8.37773, saving model to saved_models/weights.best.pre_VGG16.hdf5\n",
      "6680/6680 [==============================] - 1s - loss: 7.7406 - acc: 0.5087 - val_loss: 8.3777 - val_acc: 0.4072\n",
      "Epoch 13/20\n",
      "6560/6680 [============================>.] - ETA: 0s - loss: 7.6817 - acc: 0.5145Epoch 00012: val_loss did not improve\n",
      "6680/6680 [==============================] - 1s - loss: 7.6897 - acc: 0.5141 - val_loss: 8.4209 - val_acc: 0.4024\n",
      "Epoch 14/20\n",
      "6520/6680 [============================>.] - ETA: 0s - loss: 7.6363 - acc: 0.5195Epoch 00013: val_loss improved from 8.37773 to 8.31853, saving model to saved_models/weights.best.pre_VGG16.hdf5\n",
      "6680/6680 [==============================] - 1s - loss: 7.6394 - acc: 0.5193 - val_loss: 8.3185 - val_acc: 0.4180\n",
      "Epoch 15/20\n",
      "6540/6680 [============================>.] - ETA: 0s - loss: 7.6108 - acc: 0.5239Epoch 00014: val_loss did not improve\n",
      "6680/6680 [==============================] - 1s - loss: 7.6044 - acc: 0.5241 - val_loss: 8.3963 - val_acc: 0.4144\n",
      "Epoch 16/20\n",
      "6480/6680 [============================>.] - ETA: 0s - loss: 7.5018 - acc: 0.5210Epoch 00015: val_loss improved from 8.31853 to 8.24137, saving model to saved_models/weights.best.pre_VGG16.hdf5\n",
      "6680/6680 [==============================] - 1s - loss: 7.4962 - acc: 0.5213 - val_loss: 8.2414 - val_acc: 0.4108\n",
      "Epoch 17/20\n",
      "6620/6680 [============================>.] - ETA: 0s - loss: 7.3914 - acc: 0.5326Epoch 00016: val_loss did not improve\n",
      "6680/6680 [==============================] - 1s - loss: 7.3733 - acc: 0.5338 - val_loss: 8.2474 - val_acc: 0.4240\n",
      "Epoch 18/20\n",
      "6660/6680 [============================>.] - ETA: 0s - loss: 7.3405 - acc: 0.5377Epoch 00017: val_loss improved from 8.24137 to 8.13367, saving model to saved_models/weights.best.pre_VGG16.hdf5\n",
      "6680/6680 [==============================] - 1s - loss: 7.3403 - acc: 0.5377 - val_loss: 8.1337 - val_acc: 0.4323\n",
      "Epoch 19/20\n",
      "6340/6680 [===========================>..] - ETA: 0s - loss: 7.2985 - acc: 0.5388Epoch 00018: val_loss improved from 8.13367 to 8.06822, saving model to saved_models/weights.best.pre_VGG16.hdf5\n",
      "6680/6680 [==============================] - 1s - loss: 7.2652 - acc: 0.5407 - val_loss: 8.0682 - val_acc: 0.4335\n",
      "Epoch 20/20\n",
      "6520/6680 [============================>.] - ETA: 0s - loss: 7.1621 - acc: 0.5491Epoch 00019: val_loss improved from 8.06822 to 7.99187, saving model to saved_models/weights.best.pre_VGG16.hdf5\n",
      "6680/6680 [==============================] - 1s - loss: 7.1733 - acc: 0.5482 - val_loss: 7.9919 - val_acc: 0.4395\n",
      "\n",
      "\n",
      "working on dataset: VGG19\n",
      "with shape: (7, 7, 512)\n",
      "_________________________________________________________________\n",
      "Layer (type)                 Output Shape              Param #   \n",
      "=================================================================\n",
      "global_average_pooling2d_33  (None, 512)               0         \n",
      "_________________________________________________________________\n",
      "dense_35 (Dense)             (None, 133)               68229     \n",
      "=================================================================\n",
      "Total params: 68,229.0\n",
      "Trainable params: 68,229.0\n",
      "Non-trainable params: 0.0\n",
      "_________________________________________________________________\n",
      "Train on 6680 samples, validate on 835 samples\n",
      "Epoch 1/20\n",
      "6320/6680 [===========================>..] - ETA: 0s - loss: 12.7032 - acc: 0.1008Epoch 00000: val_loss improved from inf to 11.01251, saving model to saved_models/weights.best.pre_VGG19.hdf5\n",
      "6680/6680 [==============================] - 1s - loss: 12.6274 - acc: 0.1040 - val_loss: 11.0125 - val_acc: 0.1916\n",
      "Epoch 2/20\n",
      "6400/6680 [===========================>..] - ETA: 0s - loss: 10.4167 - acc: 0.2600Epoch 00001: val_loss improved from 11.01251 to 10.18512, saving model to saved_models/weights.best.pre_VGG19.hdf5\n",
      "6680/6680 [==============================] - 0s - loss: 10.4116 - acc: 0.2606 - val_loss: 10.1851 - val_acc: 0.2719\n",
      "Epoch 3/20\n",
      "6600/6680 [============================>.] - ETA: 0s - loss: 9.7620 - acc: 0.3268Epoch 00002: val_loss improved from 10.18512 to 9.92445, saving model to saved_models/weights.best.pre_VGG19.hdf5\n"
     ]
    },
    {
     "name": "stdout",
     "output_type": "stream",
     "text": [
      "6680/6680 [==============================] - 1s - loss: 9.7466 - acc: 0.3274 - val_loss: 9.9245 - val_acc: 0.3042\n",
      "Epoch 4/20\n",
      "6480/6680 [============================>.] - ETA: 0s - loss: 9.4762 - acc: 0.3659Epoch 00003: val_loss improved from 9.92445 to 9.81643, saving model to saved_models/weights.best.pre_VGG19.hdf5\n",
      "6680/6680 [==============================] - 1s - loss: 9.4796 - acc: 0.3657 - val_loss: 9.8164 - val_acc: 0.3174\n",
      "Epoch 5/20\n",
      "6500/6680 [============================>.] - ETA: 0s - loss: 9.3339 - acc: 0.3831Epoch 00004: val_loss improved from 9.81643 to 9.61302, saving model to saved_models/weights.best.pre_VGG19.hdf5\n",
      "6680/6680 [==============================] - 1s - loss: 9.3529 - acc: 0.3817 - val_loss: 9.6130 - val_acc: 0.3317\n",
      "Epoch 6/20\n",
      "6540/6680 [============================>.] - ETA: 0s - loss: 9.1857 - acc: 0.3980Epoch 00005: val_loss improved from 9.61302 to 9.52800, saving model to saved_models/weights.best.pre_VGG19.hdf5\n",
      "6680/6680 [==============================] - 1s - loss: 9.1821 - acc: 0.3985 - val_loss: 9.5280 - val_acc: 0.3389\n",
      "Epoch 7/20\n",
      "6420/6680 [===========================>..] - ETA: 0s - loss: 9.0591 - acc: 0.4131Epoch 00006: val_loss improved from 9.52800 to 9.46786, saving model to saved_models/weights.best.pre_VGG19.hdf5\n",
      "6680/6680 [==============================] - 1s - loss: 9.0527 - acc: 0.4132 - val_loss: 9.4679 - val_acc: 0.3533\n",
      "Epoch 8/20\n",
      "6400/6680 [===========================>..] - ETA: 0s - loss: 8.8435 - acc: 0.4273Epoch 00007: val_loss improved from 9.46786 to 9.15704, saving model to saved_models/weights.best.pre_VGG19.hdf5\n",
      "6680/6680 [==============================] - 1s - loss: 8.8401 - acc: 0.4272 - val_loss: 9.1570 - val_acc: 0.3725\n",
      "Epoch 9/20\n",
      "6340/6680 [===========================>..] - ETA: 0s - loss: 8.6392 - acc: 0.4448Epoch 00008: val_loss improved from 9.15704 to 9.10151, saving model to saved_models/weights.best.pre_VGG19.hdf5\n",
      "6680/6680 [==============================] - 1s - loss: 8.6386 - acc: 0.4440 - val_loss: 9.1015 - val_acc: 0.3641\n",
      "Epoch 10/20\n",
      "6580/6680 [============================>.] - ETA: 0s - loss: 8.4542 - acc: 0.4573Epoch 00009: val_loss improved from 9.10151 to 8.82458, saving model to saved_models/weights.best.pre_VGG19.hdf5\n",
      "6680/6680 [==============================] - 1s - loss: 8.4579 - acc: 0.4569 - val_loss: 8.8246 - val_acc: 0.3856\n",
      "Epoch 11/20\n",
      "6640/6680 [============================>.] - ETA: 0s - loss: 8.2540 - acc: 0.4718Epoch 00010: val_loss improved from 8.82458 to 8.79840, saving model to saved_models/weights.best.pre_VGG19.hdf5\n",
      "6680/6680 [==============================] - 1s - loss: 8.2577 - acc: 0.4717 - val_loss: 8.7984 - val_acc: 0.4000\n",
      "Epoch 12/20\n",
      "6440/6680 [===========================>..] - ETA: 0s - loss: 8.2260 - acc: 0.4803Epoch 00011: val_loss improved from 8.79840 to 8.71973, saving model to saved_models/weights.best.pre_VGG19.hdf5\n",
      "6680/6680 [==============================] - 1s - loss: 8.2291 - acc: 0.4799 - val_loss: 8.7197 - val_acc: 0.4072\n",
      "Epoch 13/20\n",
      "6580/6680 [============================>.] - ETA: 0s - loss: 8.1342 - acc: 0.4856Epoch 00012: val_loss improved from 8.71973 to 8.59057, saving model to saved_models/weights.best.pre_VGG19.hdf5\n",
      "6680/6680 [==============================] - 1s - loss: 8.1422 - acc: 0.4849 - val_loss: 8.5906 - val_acc: 0.4120\n",
      "Epoch 14/20\n",
      "6460/6680 [============================>.] - ETA: 0s - loss: 8.0812 - acc: 0.4906Epoch 00013: val_loss did not improve\n",
      "6680/6680 [==============================] - 1s - loss: 8.0965 - acc: 0.4895 - val_loss: 8.6474 - val_acc: 0.4072\n",
      "Epoch 15/20\n",
      "6480/6680 [============================>.] - ETA: 0s - loss: 8.0203 - acc: 0.4934Epoch 00014: val_loss improved from 8.59057 to 8.58038, saving model to saved_models/weights.best.pre_VGG19.hdf5\n",
      "6680/6680 [==============================] - 1s - loss: 8.0088 - acc: 0.4939 - val_loss: 8.5804 - val_acc: 0.4084\n",
      "Epoch 16/20\n",
      "6360/6680 [===========================>..] - ETA: 0s - loss: 7.9411 - acc: 0.4978Epoch 00015: val_loss improved from 8.58038 to 8.45986, saving model to saved_models/weights.best.pre_VGG19.hdf5\n",
      "6680/6680 [==============================] - 1s - loss: 7.9051 - acc: 0.5004 - val_loss: 8.4599 - val_acc: 0.4240\n",
      "Epoch 17/20\n",
      "6460/6680 [============================>.] - ETA: 0s - loss: 7.8810 - acc: 0.5065Epoch 00016: val_loss did not improve\n",
      "6680/6680 [==============================] - 1s - loss: 7.8751 - acc: 0.5067 - val_loss: 8.4746 - val_acc: 0.4156\n",
      "Epoch 18/20\n",
      "6480/6680 [============================>.] - ETA: 0s - loss: 7.7234 - acc: 0.5071Epoch 00017: val_loss improved from 8.45986 to 8.22570, saving model to saved_models/weights.best.pre_VGG19.hdf5\n",
      "6680/6680 [==============================] - 1s - loss: 7.7129 - acc: 0.5076 - val_loss: 8.2257 - val_acc: 0.4323\n",
      "Epoch 19/20\n",
      "6420/6680 [===========================>..] - ETA: 0s - loss: 7.4861 - acc: 0.5235Epoch 00018: val_loss improved from 8.22570 to 8.15314, saving model to saved_models/weights.best.pre_VGG19.hdf5\n",
      "6680/6680 [==============================] - 1s - loss: 7.5068 - acc: 0.5225 - val_loss: 8.1531 - val_acc: 0.4311\n",
      "Epoch 20/20\n",
      "6400/6680 [===========================>..] - ETA: 0s - loss: 7.4518 - acc: 0.5309Epoch 00019: val_loss did not improve\n",
      "6680/6680 [==============================] - 1s - loss: 7.4540 - acc: 0.5310 - val_loss: 8.1565 - val_acc: 0.4371\n",
      "\n",
      "\n",
      "working on dataset: Resnet50\n",
      "with shape: (1, 1, 2048)\n",
      "_________________________________________________________________\n",
      "Layer (type)                 Output Shape              Param #   \n",
      "=================================================================\n",
      "global_average_pooling2d_34  (None, 2048)              0         \n",
      "_________________________________________________________________\n",
      "dense_36 (Dense)             (None, 133)               272517    \n",
      "=================================================================\n",
      "Total params: 272,517.0\n",
      "Trainable params: 272,517.0\n",
      "Non-trainable params: 0.0\n",
      "_________________________________________________________________\n",
      "Train on 6680 samples, validate on 835 samples\n",
      "Epoch 1/20\n",
      "6440/6680 [===========================>..] - ETA: 0s - loss: 1.6613 - acc: 0.5908Epoch 00000: val_loss improved from inf to 0.82681, saving model to saved_models/weights.best.pre_Resnet50.hdf5\n",
      "6680/6680 [==============================] - 1s - loss: 1.6320 - acc: 0.5970 - val_loss: 0.8268 - val_acc: 0.7377\n",
      "Epoch 2/20\n",
      "6420/6680 [===========================>..] - ETA: 0s - loss: 0.4339 - acc: 0.8660Epoch 00001: val_loss improved from 0.82681 to 0.71215, saving model to saved_models/weights.best.pre_Resnet50.hdf5\n",
      "6680/6680 [==============================] - 1s - loss: 0.4349 - acc: 0.8657 - val_loss: 0.7122 - val_acc: 0.7856\n",
      "Epoch 3/20\n",
      "6520/6680 [============================>.] - ETA: 0s - loss: 0.2653 - acc: 0.9172Epoch 00002: val_loss improved from 0.71215 to 0.61006, saving model to saved_models/weights.best.pre_Resnet50.hdf5\n",
      "6680/6680 [==============================] - 1s - loss: 0.2663 - acc: 0.9169 - val_loss: 0.6101 - val_acc: 0.8084\n",
      "Epoch 4/20\n",
      "6440/6680 [===========================>..] - ETA: 0s - loss: 0.1735 - acc: 0.9441Epoch 00003: val_loss did not improve\n",
      "6680/6680 [==============================] - 1s - loss: 0.1754 - acc: 0.9433 - val_loss: 0.6587 - val_acc: 0.8012\n",
      "Epoch 5/20\n",
      "6420/6680 [===========================>..] - ETA: 0s - loss: 0.1254 - acc: 0.9615Epoch 00004: val_loss did not improve\n",
      "6680/6680 [==============================] - 1s - loss: 0.1259 - acc: 0.9611 - val_loss: 0.6872 - val_acc: 0.8036\n",
      "Epoch 6/20\n",
      "6620/6680 [============================>.] - ETA: 0s - loss: 0.0837 - acc: 0.9739Epoch 00005: val_loss did not improve\n",
      "6680/6680 [==============================] - 1s - loss: 0.0835 - acc: 0.9738 - val_loss: 0.6738 - val_acc: 0.8287\n",
      "Epoch 7/20\n",
      "6500/6680 [============================>.] - ETA: 0s - loss: 0.0624 - acc: 0.9828Epoch 00006: val_loss did not improve\n",
      "6680/6680 [==============================] - 1s - loss: 0.0619 - acc: 0.9828 - val_loss: 0.6845 - val_acc: 0.8240\n",
      "Epoch 8/20\n",
      "6460/6680 [============================>.] - ETA: 0s - loss: 0.0443 - acc: 0.9870Epoch 00007: val_loss did not improve\n",
      "6680/6680 [==============================] - 1s - loss: 0.0447 - acc: 0.9867 - val_loss: 0.6952 - val_acc: 0.8180\n",
      "Epoch 9/20\n",
      "6580/6680 [============================>.] - ETA: 0s - loss: 0.0345 - acc: 0.9904Epoch 00008: val_loss did not improve\n",
      "6680/6680 [==============================] - 1s - loss: 0.0350 - acc: 0.9903 - val_loss: 0.7290 - val_acc: 0.8156\n",
      "Epoch 10/20\n",
      "6580/6680 [============================>.] - ETA: 0s - loss: 0.0269 - acc: 0.9933Epoch 00009: val_loss did not improve\n",
      "6680/6680 [==============================] - 1s - loss: 0.0266 - acc: 0.9934 - val_loss: 0.7967 - val_acc: 0.8156\n",
      "Epoch 11/20\n",
      "6640/6680 [============================>.] - ETA: 0s - loss: 0.0195 - acc: 0.9959Epoch 00010: val_loss did not improve\n",
      "6680/6680 [==============================] - 1s - loss: 0.0196 - acc: 0.9958 - val_loss: 0.7587 - val_acc: 0.8228\n",
      "Epoch 12/20\n",
      "6580/6680 [============================>.] - ETA: 0s - loss: 0.0175 - acc: 0.9957Epoch 00011: val_loss did not improve\n",
      "6680/6680 [==============================] - 1s - loss: 0.0176 - acc: 0.9957 - val_loss: 0.7983 - val_acc: 0.8240\n",
      "Epoch 13/20\n",
      "6600/6680 [============================>.] - ETA: 0s - loss: 0.0131 - acc: 0.9961Epoch 00012: val_loss did not improve\n",
      "6680/6680 [==============================] - 1s - loss: 0.0134 - acc: 0.9960 - val_loss: 0.8204 - val_acc: 0.8156\n",
      "Epoch 14/20\n",
      "6500/6680 [============================>.] - ETA: 0s - loss: 0.0113 - acc: 0.9977Epoch 00013: val_loss did not improve\n",
      "6680/6680 [==============================] - 1s - loss: 0.0113 - acc: 0.9978 - val_loss: 0.8474 - val_acc: 0.8263\n",
      "Epoch 15/20\n",
      "6480/6680 [============================>.] - ETA: 0s - loss: 0.0092 - acc: 0.9972Epoch 00014: val_loss did not improve\n",
      "6680/6680 [==============================] - 1s - loss: 0.0092 - acc: 0.9972 - val_loss: 0.8331 - val_acc: 0.8251\n",
      "Epoch 16/20\n",
      "6580/6680 [============================>.] - ETA: 0s - loss: 0.0078 - acc: 0.9980Epoch 00015: val_loss did not improve\n",
      "6680/6680 [==============================] - 1s - loss: 0.0077 - acc: 0.9981 - val_loss: 0.8992 - val_acc: 0.8204\n",
      "Epoch 17/20\n",
      "6560/6680 [============================>.] - ETA: 0s - loss: 0.0067 - acc: 0.9982Epoch 00016: val_loss did not improve\n",
      "6680/6680 [==============================] - 1s - loss: 0.0066 - acc: 0.9982 - val_loss: 0.8810 - val_acc: 0.8192\n",
      "Epoch 18/20\n",
      "6420/6680 [===========================>..] - ETA: 0s - loss: 0.0075 - acc: 0.9983Epoch 00017: val_loss did not improve\n",
      "6680/6680 [==============================] - 1s - loss: 0.0073 - acc: 0.9984 - val_loss: 0.8479 - val_acc: 0.8311\n",
      "Epoch 19/20\n",
      "6500/6680 [============================>.] - ETA: 0s - loss: 0.0078 - acc: 0.9980Epoch 00018: val_loss did not improve\n",
      "6680/6680 [==============================] - 1s - loss: 0.0078 - acc: 0.9979 - val_loss: 0.8907 - val_acc: 0.8287\n",
      "Epoch 20/20\n",
      "6480/6680 [============================>.] - ETA: 0s - loss: 0.0065 - acc: 0.9986Epoch 00019: val_loss did not improve\n",
      "6680/6680 [==============================] - 1s - loss: 0.0063 - acc: 0.9987 - val_loss: 0.9396 - val_acc: 0.8240\n",
      "\n",
      "\n",
      "working on dataset: InceptionV3\n",
      "with shape: (5, 5, 2048)\n",
      "_________________________________________________________________\n",
      "Layer (type)                 Output Shape              Param #   \n",
      "=================================================================\n",
      "global_average_pooling2d_35  (None, 2048)              0         \n",
      "_________________________________________________________________\n",
      "dense_37 (Dense)             (None, 133)               272517    \n",
      "=================================================================\n",
      "Total params: 272,517.0\n",
      "Trainable params: 272,517.0\n",
      "Non-trainable params: 0.0\n",
      "_________________________________________________________________\n",
      "Train on 6680 samples, validate on 835 samples\n",
      "Epoch 1/20\n",
      "6520/6680 [============================>.] - ETA: 0s - loss: 1.1574 - acc: 0.7104Epoch 00000: val_loss improved from inf to 0.63636, saving model to saved_models/weights.best.pre_InceptionV3.hdf5\n",
      "6680/6680 [==============================] - 2s - loss: 1.1487 - acc: 0.7126 - val_loss: 0.6364 - val_acc: 0.8120\n",
      "Epoch 2/20\n",
      "6560/6680 [============================>.] - ETA: 0s - loss: 0.4678 - acc: 0.8547Epoch 00001: val_loss improved from 0.63636 to 0.62798, saving model to saved_models/weights.best.pre_InceptionV3.hdf5\n",
      "6680/6680 [==============================] - 1s - loss: 0.4702 - acc: 0.8540 - val_loss: 0.6280 - val_acc: 0.8335\n",
      "Epoch 3/20\n",
      "6480/6680 [============================>.] - ETA: 0s - loss: 0.3712 - acc: 0.8835Epoch 00002: val_loss did not improve\n",
      "6680/6680 [==============================] - 1s - loss: 0.3732 - acc: 0.8832 - val_loss: 0.6495 - val_acc: 0.8371\n",
      "Epoch 4/20\n",
      "6500/6680 [============================>.] - ETA: 0s - loss: 0.2970 - acc: 0.9117Epoch 00003: val_loss did not improve\n",
      "6680/6680 [==============================] - 1s - loss: 0.2982 - acc: 0.9112 - val_loss: 0.6322 - val_acc: 0.8599\n",
      "Epoch 5/20\n",
      "6520/6680 [============================>.] - ETA: 0s - loss: 0.2417 - acc: 0.9242Epoch 00004: val_loss did not improve\n",
      "6680/6680 [==============================] - 1s - loss: 0.2424 - acc: 0.9240 - val_loss: 0.6831 - val_acc: 0.8467\n",
      "Epoch 6/20\n",
      "6560/6680 [============================>.] - ETA: 0s - loss: 0.2006 - acc: 0.9346Epoch 00005: val_loss did not improve\n",
      "6680/6680 [==============================] - 1s - loss: 0.1995 - acc: 0.9352 - val_loss: 0.7311 - val_acc: 0.8299\n",
      "Epoch 7/20\n",
      "6620/6680 [============================>.] - ETA: 0s - loss: 0.1661 - acc: 0.9468Epoch 00006: val_loss did not improve\n",
      "6680/6680 [==============================] - 1s - loss: 0.1667 - acc: 0.9464 - val_loss: 0.7326 - val_acc: 0.8323\n",
      "Epoch 8/20\n",
      "6540/6680 [============================>.] - ETA: 0s - loss: 0.1448 - acc: 0.9534Epoch 00007: val_loss did not improve\n",
      "6680/6680 [==============================] - 1s - loss: 0.1440 - acc: 0.9534 - val_loss: 0.7829 - val_acc: 0.8503\n",
      "Epoch 9/20\n",
      "6560/6680 [============================>.] - ETA: 0s - loss: 0.1262 - acc: 0.9588Epoch 00008: val_loss did not improve\n",
      "6680/6680 [==============================] - 1s - loss: 0.1267 - acc: 0.9588 - val_loss: 0.7528 - val_acc: 0.8491\n",
      "Epoch 10/20\n",
      "6600/6680 [============================>.] - ETA: 0s - loss: 0.1062 - acc: 0.9641Epoch 00009: val_loss did not improve\n",
      "6680/6680 [==============================] - 1s - loss: 0.1072 - acc: 0.9638 - val_loss: 0.7804 - val_acc: 0.8467\n",
      "Epoch 11/20\n",
      "6540/6680 [============================>.] - ETA: 0s - loss: 0.0913 - acc: 0.9696Epoch 00010: val_loss did not improve\n",
      "6680/6680 [==============================] - 1s - loss: 0.0939 - acc: 0.9690 - val_loss: 0.8320 - val_acc: 0.8491\n",
      "Epoch 12/20\n",
      "6460/6680 [============================>.] - ETA: 0s - loss: 0.0757 - acc: 0.9760Epoch 00011: val_loss did not improve\n",
      "6680/6680 [==============================] - 1s - loss: 0.0744 - acc: 0.9763 - val_loss: 0.8823 - val_acc: 0.8611\n",
      "Epoch 13/20\n",
      "6620/6680 [============================>.] - ETA: 0s - loss: 0.0725 - acc: 0.9748Epoch 00012: val_loss did not improve\n",
      "6680/6680 [==============================] - 1s - loss: 0.0727 - acc: 0.9747 - val_loss: 0.8073 - val_acc: 0.8611\n",
      "Epoch 14/20\n",
      "6480/6680 [============================>.] - ETA: 0s - loss: 0.0586 - acc: 0.9818Epoch 00013: val_loss did not improve\n",
      "6680/6680 [==============================] - 1s - loss: 0.0583 - acc: 0.9819 - val_loss: 0.8363 - val_acc: 0.8671\n",
      "Epoch 15/20\n",
      "6660/6680 [============================>.] - ETA: 0s - loss: 0.0534 - acc: 0.9850Epoch 00014: val_loss did not improve\n",
      "6680/6680 [==============================] - 1s - loss: 0.0533 - acc: 0.9850 - val_loss: 0.8729 - val_acc: 0.8503\n",
      "Epoch 16/20\n",
      "6560/6680 [============================>.] - ETA: 0s - loss: 0.0474 - acc: 0.9861Epoch 00015: val_loss did not improve\n",
      "6680/6680 [==============================] - 1s - loss: 0.0472 - acc: 0.9861 - val_loss: 0.8767 - val_acc: 0.8527\n",
      "Epoch 17/20\n",
      "6540/6680 [============================>.] - ETA: 0s - loss: 0.0413 - acc: 0.9872Epoch 00016: val_loss did not improve\n",
      "6680/6680 [==============================] - 1s - loss: 0.0432 - acc: 0.9867 - val_loss: 0.9472 - val_acc: 0.8395\n",
      "Epoch 18/20\n",
      "6480/6680 [============================>.] - ETA: 0s - loss: 0.0351 - acc: 0.9892Epoch 00017: val_loss did not improve\n"
     ]
    },
    {
     "name": "stdout",
     "output_type": "stream",
     "text": [
      "6680/6680 [==============================] - 1s - loss: 0.0349 - acc: 0.9894 - val_loss: 0.9268 - val_acc: 0.8539\n",
      "Epoch 19/20\n",
      "6640/6680 [============================>.] - ETA: 0s - loss: 0.0334 - acc: 0.9898Epoch 00018: val_loss did not improve\n",
      "6680/6680 [==============================] - 1s - loss: 0.0336 - acc: 0.9897 - val_loss: 0.9322 - val_acc: 0.8515\n",
      "Epoch 20/20\n",
      "6640/6680 [============================>.] - ETA: 0s - loss: 0.0292 - acc: 0.9923Epoch 00019: val_loss did not improve\n",
      "6680/6680 [==============================] - 1s - loss: 0.0294 - acc: 0.9921 - val_loss: 0.9458 - val_acc: 0.8503\n",
      "\n",
      "\n",
      "working on dataset: Xception\n",
      "with shape: (7, 7, 2048)\n",
      "_________________________________________________________________\n",
      "Layer (type)                 Output Shape              Param #   \n",
      "=================================================================\n",
      "global_average_pooling2d_36  (None, 2048)              0         \n",
      "_________________________________________________________________\n",
      "dense_38 (Dense)             (None, 133)               272517    \n",
      "=================================================================\n",
      "Total params: 272,517.0\n",
      "Trainable params: 272,517.0\n",
      "Non-trainable params: 0.0\n",
      "_________________________________________________________________\n",
      "Train on 6680 samples, validate on 835 samples\n",
      "Epoch 1/20\n",
      "6580/6680 [============================>.] - ETA: 0s - loss: 1.0551 - acc: 0.7366Epoch 00000: val_loss improved from inf to 0.54251, saving model to saved_models/weights.best.pre_Xception.hdf5\n",
      "6680/6680 [==============================] - 3s - loss: 1.0470 - acc: 0.7382 - val_loss: 0.5425 - val_acc: 0.8180\n",
      "Epoch 2/20\n",
      "6580/6680 [============================>.] - ETA: 0s - loss: 0.4019 - acc: 0.8731Epoch 00001: val_loss improved from 0.54251 to 0.47967, saving model to saved_models/weights.best.pre_Xception.hdf5\n",
      "6680/6680 [==============================] - 2s - loss: 0.4013 - acc: 0.8737 - val_loss: 0.4797 - val_acc: 0.8491\n",
      "Epoch 3/20\n",
      "6580/6680 [============================>.] - ETA: 0s - loss: 0.3221 - acc: 0.9020Epoch 00002: val_loss improved from 0.47967 to 0.47694, saving model to saved_models/weights.best.pre_Xception.hdf5\n",
      "6680/6680 [==============================] - 2s - loss: 0.3228 - acc: 0.9022 - val_loss: 0.4769 - val_acc: 0.8563\n",
      "Epoch 4/20\n",
      "6600/6680 [============================>.] - ETA: 0s - loss: 0.2810 - acc: 0.9109Epoch 00003: val_loss did not improve\n",
      "6680/6680 [==============================] - 2s - loss: 0.2803 - acc: 0.9106 - val_loss: 0.4918 - val_acc: 0.8515\n",
      "Epoch 5/20\n",
      "6600/6680 [============================>.] - ETA: 0s - loss: 0.2386 - acc: 0.9271Epoch 00004: val_loss did not improve\n",
      "6680/6680 [==============================] - 2s - loss: 0.2418 - acc: 0.9260 - val_loss: 0.5191 - val_acc: 0.8479\n",
      "Epoch 6/20\n",
      "6600/6680 [============================>.] - ETA: 0s - loss: 0.2150 - acc: 0.9356Epoch 00005: val_loss did not improve\n",
      "6680/6680 [==============================] - 2s - loss: 0.2143 - acc: 0.9361 - val_loss: 0.5098 - val_acc: 0.8683\n",
      "Epoch 7/20\n",
      "6580/6680 [============================>.] - ETA: 0s - loss: 0.1967 - acc: 0.9412Epoch 00006: val_loss did not improve\n",
      "6680/6680 [==============================] - 2s - loss: 0.1952 - acc: 0.9413 - val_loss: 0.5276 - val_acc: 0.8467\n",
      "Epoch 8/20\n",
      "6560/6680 [============================>.] - ETA: 0s - loss: 0.1778 - acc: 0.9454Epoch 00007: val_loss did not improve\n",
      "6680/6680 [==============================] - 2s - loss: 0.1768 - acc: 0.9457 - val_loss: 0.5353 - val_acc: 0.8647\n",
      "Epoch 9/20\n",
      "6540/6680 [============================>.] - ETA: 0s - loss: 0.1622 - acc: 0.9514Epoch 00008: val_loss did not improve\n",
      "6680/6680 [==============================] - 2s - loss: 0.1617 - acc: 0.9513 - val_loss: 0.5640 - val_acc: 0.8527\n",
      "Epoch 10/20\n",
      "6540/6680 [============================>.] - ETA: 0s - loss: 0.1512 - acc: 0.9564Epoch 00009: val_loss did not improve\n",
      "6680/6680 [==============================] - 2s - loss: 0.1511 - acc: 0.9567 - val_loss: 0.5427 - val_acc: 0.8611\n",
      "Epoch 11/20\n",
      "6600/6680 [============================>.] - ETA: 0s - loss: 0.1371 - acc: 0.9582Epoch 00010: val_loss did not improve\n",
      "6680/6680 [==============================] - 2s - loss: 0.1358 - acc: 0.9587 - val_loss: 0.5985 - val_acc: 0.8515\n",
      "Epoch 12/20\n",
      "6580/6680 [============================>.] - ETA: 0s - loss: 0.1268 - acc: 0.9626Epoch 00011: val_loss did not improve\n",
      "6680/6680 [==============================] - 2s - loss: 0.1280 - acc: 0.9623 - val_loss: 0.5960 - val_acc: 0.8587\n",
      "Epoch 13/20\n",
      "6600/6680 [============================>.] - ETA: 0s - loss: 0.1175 - acc: 0.9647Epoch 00012: val_loss did not improve\n",
      "6680/6680 [==============================] - 2s - loss: 0.1184 - acc: 0.9644 - val_loss: 0.6267 - val_acc: 0.8551\n",
      "Epoch 14/20\n",
      "6600/6680 [============================>.] - ETA: 0s - loss: 0.1125 - acc: 0.9689Epoch 00013: val_loss did not improve\n",
      "6680/6680 [==============================] - 2s - loss: 0.1115 - acc: 0.9692 - val_loss: 0.6460 - val_acc: 0.8539\n",
      "Epoch 15/20\n",
      "6580/6680 [============================>.] - ETA: 0s - loss: 0.1050 - acc: 0.9708Epoch 00014: val_loss did not improve\n",
      "6680/6680 [==============================] - 2s - loss: 0.1058 - acc: 0.9704 - val_loss: 0.6180 - val_acc: 0.8563\n",
      "Epoch 16/20\n",
      "6600/6680 [============================>.] - ETA: 0s - loss: 0.0972 - acc: 0.9724Epoch 00015: val_loss did not improve\n",
      "6680/6680 [==============================] - 2s - loss: 0.0963 - acc: 0.9728 - val_loss: 0.6599 - val_acc: 0.8551\n",
      "Epoch 17/20\n",
      "6600/6680 [============================>.] - ETA: 0s - loss: 0.0918 - acc: 0.9738Epoch 00016: val_loss did not improve\n",
      "6680/6680 [==============================] - 2s - loss: 0.0916 - acc: 0.9738 - val_loss: 0.6401 - val_acc: 0.8611\n",
      "Epoch 18/20\n",
      "6580/6680 [============================>.] - ETA: 0s - loss: 0.0870 - acc: 0.9758Epoch 00017: val_loss did not improve\n",
      "6680/6680 [==============================] - 2s - loss: 0.0870 - acc: 0.9759 - val_loss: 0.6710 - val_acc: 0.8551\n",
      "Epoch 19/20\n",
      "6660/6680 [============================>.] - ETA: 0s - loss: 0.0812 - acc: 0.9776Epoch 00018: val_loss did not improve\n",
      "6680/6680 [==============================] - 2s - loss: 0.0811 - acc: 0.9777 - val_loss: 0.6791 - val_acc: 0.8563\n",
      "Epoch 20/20\n",
      "6600/6680 [============================>.] - ETA: 0s - loss: 0.0735 - acc: 0.9788Epoch 00019: val_loss did not improve\n",
      "6680/6680 [==============================] - 2s - loss: 0.0735 - acc: 0.9787 - val_loss: 0.6979 - val_acc: 0.8551\n"
     ]
    }
   ],
   "source": [
    "### TODO: Train the model.\n",
    "from keras.callbacks import ModelCheckpoint\n",
    "\n",
    "for name, train, valid, test in PreTrainedFeatures():\n",
    "    print('\\n')\n",
    "    input_shape = train.shape[1:]\n",
    "    print('working on dataset: {}\\nwith shape: {}'\n",
    "          .format(name, input_shape))\n",
    "    \n",
    "    gap_layer = GlobalAveragePooling2D(input_shape=input_shape)\n",
    "    dense_layer = Dense(133, activation='softmax')\n",
    "    model_gap = Sequential()\n",
    "    model_gap.add(gap_layer)\n",
    "    model_gap.add(dense_layer)\n",
    "    \n",
    "    model_gap.summary()\n",
    "    \n",
    "    model_gap.compile(loss='categorical_crossentropy', \n",
    "                  optimizer='rmsprop', \n",
    "                  metrics=['accuracy'])\n",
    "        \n",
    "    checkpointer = ModelCheckpoint(\n",
    "        filepath = save_file_name(name),\n",
    "        verbose=1, save_best_only=True)\n",
    "    \n",
    "    model_gap.fit(\n",
    "        train, train_targets,\n",
    "        validation_data=(valid, valid_targets),\n",
    "        epochs=20, batch_size=20, callbacks=[checkpointer], verbose=1\n",
    "    )"
   ]
  },
  {
   "cell_type": "markdown",
   "metadata": {},
   "source": [
    "### (IMPLEMENTATION) Load the Model with the Best Validation Loss"
   ]
  },
  {
   "cell_type": "code",
   "execution_count": 19,
   "metadata": {},
   "outputs": [
    {
     "name": "stdout",
     "output_type": "stream",
     "text": [
      "loading model: VGG16\n",
      "loading model: VGG19\n",
      "loading model: Resnet50\n",
      "loading model: InceptionV3\n",
      "loading model: Xception\n"
     ]
    }
   ],
   "source": [
    "### TODO: Load the model weights with the best validation loss.\n",
    "models = {}\n",
    "\n",
    "for name, train, valid, test in PreTrainedFeatures():\n",
    "    print('loading model: {}'.format(name))\n",
    "    input_shape = test.shape[1:]\n",
    "    model = build_model(input_shape)\n",
    "    model.load_weights(save_file_name(name))\n",
    "    models[name] = model\n",
    "    "
   ]
  },
  {
   "cell_type": "markdown",
   "metadata": {},
   "source": [
    "### (IMPLEMENTATION) Test the Model\n",
    "\n",
    "Try out your model on the test dataset of dog images. Ensure that your test accuracy is greater than 60%."
   ]
  },
  {
   "cell_type": "code",
   "execution_count": 20,
   "metadata": {},
   "outputs": [
    {
     "name": "stdout",
     "output_type": "stream",
     "text": [
      "testing model VGG16\n",
      "test accuracy for VGG16: 45.21531100478469\n",
      "testing model VGG19\n",
      "test accuracy for VGG19: 42.942583732057415\n",
      "testing model Resnet50\n",
      "test accuracy for Resnet50: 80.02392344497608\n",
      "testing model InceptionV3\n",
      "test accuracy for InceptionV3: 80.14354066985646\n",
      "testing model Xception\n",
      "test accuracy for Xception: 84.68899521531101\n"
     ]
    }
   ],
   "source": [
    "predictions = {}\n",
    "### TODO: Calculate classification accuracy on the test dataset.\n",
    "\n",
    "for name, train, valid, test in PreTrainedFeatures():\n",
    "    print('testing model {}'.format(name))\n",
    "    model = models[name]\n",
    "    try:\n",
    "        predictions[name] = [np.argmax(model.predict(np.expand_dims(tensor, axis=0))) for tensor in test]\n",
    "        print('test accuracy for {}: {}'.format(name, test_accuracy(predictions[name])))\n",
    "    except Exception as e:\n",
    "        print('skipping {} with error: {}'.format(name, e))"
   ]
  },
  {
   "cell_type": "markdown",
   "metadata": {},
   "source": [
    "### (IMPLEMENTATION) Predict Dog Breed with the Model\n",
    "\n",
    "Write a function that takes an image path as input and returns the dog breed (`Affenpinscher`, `Afghan_hound`, etc) that is predicted by your model.  \n",
    "\n",
    "Similar to the analogous function in Step 5, your function should have three steps:\n",
    "1. Extract the bottleneck features corresponding to the chosen CNN model.\n",
    "2. Supply the bottleneck features as input to the model to return the predicted vector.  Note that the argmax of this prediction vector gives the index of the predicted dog breed.\n",
    "3. Use the `dog_names` array defined in Step 0 of this notebook to return the corresponding breed.\n",
    "\n",
    "The functions to extract the bottleneck features can be found in `extract_bottleneck_features.py`, and they have been imported in an earlier code cell.  To obtain the bottleneck features corresponding to your chosen CNN architecture, you need to use the function\n",
    "\n",
    "    extract_{network}\n",
    "    \n",
    "where `{network}`, in the above filename, should be one of `VGG19`, `Resnet50`, `InceptionV3`, or `Xception`."
   ]
  },
  {
   "cell_type": "code",
   "execution_count": 20,
   "metadata": {},
   "outputs": [
    {
     "name": "stdout",
     "output_type": "stream",
     "text": [
      "for file dogImages/train/095.Kuvasz/Kuvasz_06442.jpg, detected breed: Kuvasz\n"
     ]
    }
   ],
   "source": [
    "### TODO: Write a function that takes a path to an image as input\n",
    "### and returns the dog breed that is predicted by the model.\n",
    "def predict_dog_breed(img_path, network_name, models=models):\n",
    "    import extract_bottleneck_features\n",
    "    \n",
    "    tensor = path_to_tensor(img_path)\n",
    "    bottleneck_name = 'extract_' + network_name\n",
    "    bottleneck_predictions = getattr(extract_bottleneck_features, \n",
    "                                     bottleneck_name)(tensor)\n",
    "    model = models[name]\n",
    "\n",
    "    prediction = np.argmax(model.predict(bottleneck_predictions))\n",
    "    return dog_names[prediction]\n",
    "    \n",
    "predicted_breed = predict_dog_breed(dog_files_short[0], 'Xception')\n",
    "print('for file {}, detected breed: {}'.format(dog_files_short[0], predicted_breed))"
   ]
  },
  {
   "cell_type": "markdown",
   "metadata": {},
   "source": [
    "---\n",
    "<a id='step6'></a>\n",
    "## Step 6: Write your Algorithm\n",
    "\n",
    "Write an algorithm that accepts a file path to an image and first determines whether the image contains a human, dog, or neither.  Then,\n",
    "- if a __dog__ is detected in the image, return the predicted breed.\n",
    "- if a __human__ is detected in the image, return the resembling dog breed.\n",
    "- if __neither__ is detected in the image, provide output that indicates an error.\n",
    "\n",
    "You are welcome to write your own functions for detecting humans and dogs in images, but feel free to use the `face_detector` and `dog_detector` functions developed above.  You are __required__ to use your CNN from Step 5 to predict dog breed.  \n",
    "\n",
    "Some sample output for our algorithm is provided below, but feel free to design your own user experience!\n",
    "\n",
    "![Sample Human Output](images/sample_human_output.png)\n",
    "\n",
    "\n",
    "### (IMPLEMENTATION) Write your Algorithm"
   ]
  },
  {
   "cell_type": "code",
   "execution_count": 25,
   "metadata": {
    "collapsed": true
   },
   "outputs": [],
   "source": [
    "### TODO: Write your algorithm.\n",
    "### Feel free to use as many code cells as needed.\n",
    "\n",
    "class UndefinedImageException(Exception):\n",
    "    pass\n",
    "\n",
    "def breed_detection(img_path):\n",
    "    if dog_detector(img_path):\n",
    "        predicted_breed = predict_dog_breed(img_path, 'Xception')\n",
    "        print('dog detected for image {} is breed: {}'\n",
    "              .format(img_path, predicted_breed))\n",
    "        return predicted_breed\n",
    "    elif face_detector(img_path) is True:\n",
    "        predicted_breed = predict_dog_breed(img_path, 'Xception')\n",
    "        print('human detected for image {} is breed: {}'\n",
    "              .format(img_path, predicted_breed))\n",
    "        return predicted_breed\n",
    "    raise UndefinedImageException"
   ]
  },
  {
   "cell_type": "markdown",
   "metadata": {},
   "source": [
    "---\n",
    "<a id='step7'></a>\n",
    "## Step 7: Test Your Algorithm\n",
    "\n",
    "In this section, you will take your new algorithm for a spin!  What kind of dog does the algorithm think that __you__ look like?  If you have a dog, does it predict your dog's breed accurately?  If you have a cat, does it mistakenly think that your cat is a dog?\n",
    "\n",
    "### (IMPLEMENTATION) Test Your Algorithm on Sample Images!\n",
    "\n",
    "Test your algorithm at least six images on your computer.  Feel free to use any images you like.  Use at least two human and two dog images.  \n",
    "\n",
    "__Question 6:__ Is the output better than you expected :) ?  Or worse :( ?  Provide at least three possible points of improvement for your algorithm.\n",
    "\n",
    "__Answer:__ \n",
    "The model peroforms admiarably, giving amusing and variable predictions for human faces (though with a preference for Dachshund, maybe most people look like Dachshunds?)\n",
    "\n",
    "As can be seen the predictions of dog breeds are accurate. \n",
    "\n",
    "3 most obvious points of improvement:\n",
    "* Currently looking at whether dog is detected then whether human face is deteced. Both may (appear to) be present in image. Should look at probabilities of human face vs dog in image and select based on highest probability\n",
    "\n",
    "* Retrain with altering training set via transformations -- rotations, translations of images, other distortions. Larger training set is always nice.\n",
    "\n",
    "* A more drastic change to the model would be to implement a general adversarial model. "
   ]
  },
  {
   "cell_type": "code",
   "execution_count": 26,
   "metadata": {},
   "outputs": [
    {
     "name": "stdout",
     "output_type": "stream",
     "text": [
      "human detected for image lfw/Tim_Robbins/Tim_Robbins_0003.jpg is breed: Dachshund\n",
      "human detected for image lfw/Walter_Mondale/Walter_Mondale_0007.jpg is breed: Dachshund\n",
      "human detected for image lfw/Junichiro_Koizumi/Junichiro_Koizumi_0010.jpg is breed: Dachshund\n",
      "human detected for image lfw/James_Parker/James_Parker_0002.jpg is breed: American_foxhound\n",
      "human detected for image lfw/Juan_Carlos_Ferrero/Juan_Carlos_Ferrero_0009.jpg is breed: Dachshund\n",
      "human detected for image lfw/Rosie_Perez/Rosie_Perez_0001.jpg is breed: Dachshund\n",
      "human detected for image lfw/Cate_Blanchett/Cate_Blanchett_0004.jpg is breed: Chinese_crested\n",
      "human detected for image lfw/Tim_Duncan/Tim_Duncan_0001.jpg is breed: Dachshund\n",
      "human detected for image lfw/Ari_Fleischer/Ari_Fleischer_0001.jpg is breed: Dachshund\n",
      "human detected for image lfw/Gerhard_Schroeder/Gerhard_Schroeder_0096.jpg is breed: Cavalier_king_charles_spaniel\n",
      "human detected for image lfw/Meryl_Streep/Meryl_Streep_0006.jpg is breed: Bloodhound\n",
      "human detected for image lfw/Laura_Bush/Laura_Bush_0029.jpg is breed: Dachshund\n",
      "dog detected for image lfw/Alexis_Bledel/Alexis_Bledel_0001.jpg is breed: Havanese\n",
      "human detected for image lfw/Mark_Andrew/Mark_Andrew_0001.jpg is breed: Cardigan_welsh_corgi\n",
      "human detected for image lfw/Michael_Diekmann/Michael_Diekmann_0001.jpg is breed: Cardigan_welsh_corgi\n",
      "human detected for image lfw/Paul_ONeill/Paul_ONeill_0009.jpg is breed: Dachshund\n",
      "human detected for image lfw/Svetlana_Belousova/Svetlana_Belousova_0001.jpg is breed: Dachshund\n",
      "human detected for image lfw/Luiz_Inacio_Lula_da_Silva/Luiz_Inacio_Lula_da_Silva_0035.jpg is breed: Cavalier_king_charles_spaniel\n",
      "human detected for image lfw/Jim_Kelly/Jim_Kelly_0001.jpg is breed: Dachshund\n",
      "human detected for image lfw/Taha_Yassin_Ramadan/Taha_Yassin_Ramadan_0011.jpg is breed: Cavalier_king_charles_spaniel\n",
      "dog detected for image dogImages/train/095.Kuvasz/Kuvasz_06442.jpg is breed: Kuvasz\n",
      "dog detected for image dogImages/train/057.Dalmatian/Dalmatian_04054.jpg is breed: Dalmatian\n",
      "dog detected for image dogImages/train/088.Irish_water_spaniel/Irish_water_spaniel_06014.jpg is breed: Irish_water_spaniel\n",
      "dog detected for image dogImages/train/008.American_staffordshire_terrier/American_staffordshire_terrier_00596.jpg is breed: American_staffordshire_terrier\n",
      "dog detected for image dogImages/train/008.American_staffordshire_terrier/American_staffordshire_terrier_00563.jpg is breed: American_staffordshire_terrier\n",
      "dog detected for image dogImages/train/063.English_springer_spaniel/English_springer_spaniel_04469.jpg is breed: English_springer_spaniel\n",
      "dog detected for image dogImages/train/054.Collie/Collie_03789.jpg is breed: Collie\n",
      "dog detected for image dogImages/train/119.Petit_basset_griffon_vendeen/Petit_basset_griffon_vendeen_07705.jpg is breed: Petit_basset_griffon_vendeen\n",
      "dog detected for image dogImages/train/009.American_water_spaniel/American_water_spaniel_00625.jpg is breed: American_water_spaniel\n",
      "dog detected for image dogImages/train/081.Greyhound/Greyhound_05559.jpg is breed: Greyhound\n",
      "dog detected for image dogImages/train/012.Australian_shepherd/Australian_shepherd_00814.jpg is breed: Australian_shepherd\n",
      "dog detected for image dogImages/train/071.German_shepherd_dog/German_shepherd_dog_04890.jpg is breed: Belgian_malinois\n",
      "dog detected for image dogImages/train/015.Basset_hound/Basset_hound_01094.jpg is breed: Basset_hound\n",
      "dog detected for image dogImages/train/053.Cocker_spaniel/Cocker_spaniel_03768.jpg is breed: Cocker_spaniel\n",
      "dog detected for image dogImages/train/099.Lhasa_apso/Lhasa_apso_06646.jpg is breed: Lhasa_apso\n",
      "dog detected for image dogImages/train/009.American_water_spaniel/American_water_spaniel_00628.jpg is breed: American_water_spaniel\n",
      "dog detected for image dogImages/train/056.Dachshund/Dachshund_03935.jpg is breed: Dachshund\n",
      "dog detected for image dogImages/train/082.Havanese/Havanese_05627.jpg is breed: Maltese\n",
      "dog detected for image dogImages/train/117.Pekingese/Pekingese_07595.jpg is breed: Pekingese\n",
      "dog detected for image dogImages/train/051.Chow_chow/Chow_chow_03650.jpg is breed: Chow_chow\n"
     ]
    }
   ],
   "source": [
    "## TODO: Execute your algorithm from Step 6 on\n",
    "## at least 6 images on your computer.\n",
    "## Feel free to use as many code cells as needed.\n",
    "for human_img_path in human_files_short[:20]:\n",
    "    try:\n",
    "        breed_detection(human_img_path)\n",
    "    except UndefinedImageException:\n",
    "        print('no breed found for image: {}'.format(human_img_path))\n",
    "    \n",
    "for dog_img_path in dog_files_short[:20]:\n",
    "    try:\n",
    "        breed_detection(dog_img_path)\n",
    "    except UndefinedImageException:\n",
    "        print('no breed found for image: {}'.format(dog_img_path))"
   ]
  },
  {
   "cell_type": "code",
   "execution_count": null,
   "metadata": {
    "collapsed": true
   },
   "outputs": [],
   "source": []
  }
 ],
 "metadata": {
  "anaconda-cloud": {},
  "kernelspec": {
   "display_name": "Python 3",
   "language": "python",
   "name": "python3"
  },
  "language_info": {
   "codemirror_mode": {
    "name": "ipython",
    "version": 3
   },
   "file_extension": ".py",
   "mimetype": "text/x-python",
   "name": "python",
   "nbconvert_exporter": "python",
   "pygments_lexer": "ipython3",
   "version": "3.6.1"
  }
 },
 "nbformat": 4,
 "nbformat_minor": 1
}
